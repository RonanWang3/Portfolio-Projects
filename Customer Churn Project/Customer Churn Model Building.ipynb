{
 "cells": [
  {
   "cell_type": "code",
   "execution_count": 293,
   "id": "d561fa79",
   "metadata": {},
   "outputs": [],
   "source": [
    "from sklearn.ensemble import RandomForestClassifier\n",
    "from sklearn.model_selection import train_test_split\n",
    "import pandas as pd"
   ]
  },
  {
   "cell_type": "code",
   "execution_count": 294,
   "id": "e6d80042",
   "metadata": {},
   "outputs": [],
   "source": [
    "churn = pd.read_csv('cusmodel.csv')\n",
    "churn.head()\n",
    "churn.drop('Unnamed: 0', axis =1, inplace = True)"
   ]
  },
  {
   "cell_type": "code",
   "execution_count": 295,
   "id": "c19114d1",
   "metadata": {},
   "outputs": [
    {
     "data": {
      "text/html": [
       "<div>\n",
       "<style scoped>\n",
       "    .dataframe tbody tr th:only-of-type {\n",
       "        vertical-align: middle;\n",
       "    }\n",
       "\n",
       "    .dataframe tbody tr th {\n",
       "        vertical-align: top;\n",
       "    }\n",
       "\n",
       "    .dataframe thead th {\n",
       "        text-align: right;\n",
       "    }\n",
       "</style>\n",
       "<table border=\"1\" class=\"dataframe\">\n",
       "  <thead>\n",
       "    <tr style=\"text-align: right;\">\n",
       "      <th></th>\n",
       "      <th>SeniorCitizen</th>\n",
       "      <th>tenure</th>\n",
       "      <th>MonthlyCharges</th>\n",
       "      <th>TotalCharges</th>\n",
       "      <th>Churn</th>\n",
       "      <th>gender_Female</th>\n",
       "      <th>gender_Male</th>\n",
       "      <th>Partner_No</th>\n",
       "      <th>Partner_Yes</th>\n",
       "      <th>Dependents_No</th>\n",
       "      <th>...</th>\n",
       "      <th>StreamingMovies_Yes</th>\n",
       "      <th>Contract_Month-to-month</th>\n",
       "      <th>Contract_One year</th>\n",
       "      <th>Contract_Two year</th>\n",
       "      <th>PaperlessBilling_No</th>\n",
       "      <th>PaperlessBilling_Yes</th>\n",
       "      <th>PaymentMethod_Bank transfer (automatic)</th>\n",
       "      <th>PaymentMethod_Credit card (automatic)</th>\n",
       "      <th>PaymentMethod_Electronic check</th>\n",
       "      <th>PaymentMethod_Mailed check</th>\n",
       "    </tr>\n",
       "  </thead>\n",
       "  <tbody>\n",
       "    <tr>\n",
       "      <th>0</th>\n",
       "      <td>0</td>\n",
       "      <td>0.000000</td>\n",
       "      <td>0.115423</td>\n",
       "      <td>0.001275</td>\n",
       "      <td>0</td>\n",
       "      <td>1</td>\n",
       "      <td>0</td>\n",
       "      <td>0</td>\n",
       "      <td>1</td>\n",
       "      <td>1</td>\n",
       "      <td>...</td>\n",
       "      <td>0</td>\n",
       "      <td>1</td>\n",
       "      <td>0</td>\n",
       "      <td>0</td>\n",
       "      <td>0</td>\n",
       "      <td>1</td>\n",
       "      <td>0</td>\n",
       "      <td>0</td>\n",
       "      <td>1</td>\n",
       "      <td>0</td>\n",
       "    </tr>\n",
       "    <tr>\n",
       "      <th>1</th>\n",
       "      <td>0</td>\n",
       "      <td>0.464789</td>\n",
       "      <td>0.385075</td>\n",
       "      <td>0.215867</td>\n",
       "      <td>0</td>\n",
       "      <td>0</td>\n",
       "      <td>1</td>\n",
       "      <td>1</td>\n",
       "      <td>0</td>\n",
       "      <td>1</td>\n",
       "      <td>...</td>\n",
       "      <td>0</td>\n",
       "      <td>0</td>\n",
       "      <td>1</td>\n",
       "      <td>0</td>\n",
       "      <td>1</td>\n",
       "      <td>0</td>\n",
       "      <td>0</td>\n",
       "      <td>0</td>\n",
       "      <td>0</td>\n",
       "      <td>1</td>\n",
       "    </tr>\n",
       "    <tr>\n",
       "      <th>2</th>\n",
       "      <td>0</td>\n",
       "      <td>0.014085</td>\n",
       "      <td>0.354229</td>\n",
       "      <td>0.010310</td>\n",
       "      <td>1</td>\n",
       "      <td>0</td>\n",
       "      <td>1</td>\n",
       "      <td>1</td>\n",
       "      <td>0</td>\n",
       "      <td>1</td>\n",
       "      <td>...</td>\n",
       "      <td>0</td>\n",
       "      <td>1</td>\n",
       "      <td>0</td>\n",
       "      <td>0</td>\n",
       "      <td>0</td>\n",
       "      <td>1</td>\n",
       "      <td>0</td>\n",
       "      <td>0</td>\n",
       "      <td>0</td>\n",
       "      <td>1</td>\n",
       "    </tr>\n",
       "    <tr>\n",
       "      <th>3</th>\n",
       "      <td>0</td>\n",
       "      <td>0.619718</td>\n",
       "      <td>0.239303</td>\n",
       "      <td>0.210241</td>\n",
       "      <td>0</td>\n",
       "      <td>0</td>\n",
       "      <td>1</td>\n",
       "      <td>1</td>\n",
       "      <td>0</td>\n",
       "      <td>1</td>\n",
       "      <td>...</td>\n",
       "      <td>0</td>\n",
       "      <td>0</td>\n",
       "      <td>1</td>\n",
       "      <td>0</td>\n",
       "      <td>1</td>\n",
       "      <td>0</td>\n",
       "      <td>1</td>\n",
       "      <td>0</td>\n",
       "      <td>0</td>\n",
       "      <td>0</td>\n",
       "    </tr>\n",
       "    <tr>\n",
       "      <th>4</th>\n",
       "      <td>0</td>\n",
       "      <td>0.014085</td>\n",
       "      <td>0.521891</td>\n",
       "      <td>0.015330</td>\n",
       "      <td>1</td>\n",
       "      <td>1</td>\n",
       "      <td>0</td>\n",
       "      <td>1</td>\n",
       "      <td>0</td>\n",
       "      <td>1</td>\n",
       "      <td>...</td>\n",
       "      <td>0</td>\n",
       "      <td>1</td>\n",
       "      <td>0</td>\n",
       "      <td>0</td>\n",
       "      <td>0</td>\n",
       "      <td>1</td>\n",
       "      <td>0</td>\n",
       "      <td>0</td>\n",
       "      <td>1</td>\n",
       "      <td>0</td>\n",
       "    </tr>\n",
       "  </tbody>\n",
       "</table>\n",
       "<p>5 rows × 46 columns</p>\n",
       "</div>"
      ],
      "text/plain": [
       "   SeniorCitizen    tenure  MonthlyCharges  TotalCharges  Churn  \\\n",
       "0              0  0.000000        0.115423      0.001275      0   \n",
       "1              0  0.464789        0.385075      0.215867      0   \n",
       "2              0  0.014085        0.354229      0.010310      1   \n",
       "3              0  0.619718        0.239303      0.210241      0   \n",
       "4              0  0.014085        0.521891      0.015330      1   \n",
       "\n",
       "   gender_Female  gender_Male  Partner_No  Partner_Yes  Dependents_No  ...  \\\n",
       "0              1            0           0            1              1  ...   \n",
       "1              0            1           1            0              1  ...   \n",
       "2              0            1           1            0              1  ...   \n",
       "3              0            1           1            0              1  ...   \n",
       "4              1            0           1            0              1  ...   \n",
       "\n",
       "   StreamingMovies_Yes  Contract_Month-to-month  Contract_One year  \\\n",
       "0                    0                        1                  0   \n",
       "1                    0                        0                  1   \n",
       "2                    0                        1                  0   \n",
       "3                    0                        0                  1   \n",
       "4                    0                        1                  0   \n",
       "\n",
       "   Contract_Two year  PaperlessBilling_No  PaperlessBilling_Yes  \\\n",
       "0                  0                    0                     1   \n",
       "1                  0                    1                     0   \n",
       "2                  0                    0                     1   \n",
       "3                  0                    1                     0   \n",
       "4                  0                    0                     1   \n",
       "\n",
       "   PaymentMethod_Bank transfer (automatic)  \\\n",
       "0                                        0   \n",
       "1                                        0   \n",
       "2                                        0   \n",
       "3                                        1   \n",
       "4                                        0   \n",
       "\n",
       "   PaymentMethod_Credit card (automatic)  PaymentMethod_Electronic check  \\\n",
       "0                                      0                               1   \n",
       "1                                      0                               0   \n",
       "2                                      0                               0   \n",
       "3                                      0                               0   \n",
       "4                                      0                               1   \n",
       "\n",
       "   PaymentMethod_Mailed check  \n",
       "0                           0  \n",
       "1                           1  \n",
       "2                           1  \n",
       "3                           0  \n",
       "4                           0  \n",
       "\n",
       "[5 rows x 46 columns]"
      ]
     },
     "execution_count": 295,
     "metadata": {},
     "output_type": "execute_result"
    }
   ],
   "source": [
    "churn.head()"
   ]
  },
  {
   "cell_type": "code",
   "execution_count": 296,
   "id": "37f0379b",
   "metadata": {},
   "outputs": [
    {
     "data": {
      "text/html": [
       "<div>\n",
       "<style scoped>\n",
       "    .dataframe tbody tr th:only-of-type {\n",
       "        vertical-align: middle;\n",
       "    }\n",
       "\n",
       "    .dataframe tbody tr th {\n",
       "        vertical-align: top;\n",
       "    }\n",
       "\n",
       "    .dataframe thead th {\n",
       "        text-align: right;\n",
       "    }\n",
       "</style>\n",
       "<table border=\"1\" class=\"dataframe\">\n",
       "  <thead>\n",
       "    <tr style=\"text-align: right;\">\n",
       "      <th></th>\n",
       "      <th>SeniorCitizen</th>\n",
       "      <th>tenure</th>\n",
       "      <th>MonthlyCharges</th>\n",
       "      <th>TotalCharges</th>\n",
       "      <th>Churn</th>\n",
       "      <th>Partner_No</th>\n",
       "      <th>Partner_Yes</th>\n",
       "      <th>Dependents_No</th>\n",
       "      <th>Dependents_Yes</th>\n",
       "      <th>PhoneService_No</th>\n",
       "      <th>...</th>\n",
       "      <th>StreamingMovies_Yes</th>\n",
       "      <th>Contract_Month-to-month</th>\n",
       "      <th>Contract_One year</th>\n",
       "      <th>Contract_Two year</th>\n",
       "      <th>PaperlessBilling_No</th>\n",
       "      <th>PaperlessBilling_Yes</th>\n",
       "      <th>PaymentMethod_Bank transfer (automatic)</th>\n",
       "      <th>PaymentMethod_Credit card (automatic)</th>\n",
       "      <th>PaymentMethod_Electronic check</th>\n",
       "      <th>PaymentMethod_Mailed check</th>\n",
       "    </tr>\n",
       "  </thead>\n",
       "  <tbody>\n",
       "    <tr>\n",
       "      <th>0</th>\n",
       "      <td>0</td>\n",
       "      <td>0.000000</td>\n",
       "      <td>0.115423</td>\n",
       "      <td>0.001275</td>\n",
       "      <td>0</td>\n",
       "      <td>0</td>\n",
       "      <td>1</td>\n",
       "      <td>1</td>\n",
       "      <td>0</td>\n",
       "      <td>1</td>\n",
       "      <td>...</td>\n",
       "      <td>0</td>\n",
       "      <td>1</td>\n",
       "      <td>0</td>\n",
       "      <td>0</td>\n",
       "      <td>0</td>\n",
       "      <td>1</td>\n",
       "      <td>0</td>\n",
       "      <td>0</td>\n",
       "      <td>1</td>\n",
       "      <td>0</td>\n",
       "    </tr>\n",
       "    <tr>\n",
       "      <th>1</th>\n",
       "      <td>0</td>\n",
       "      <td>0.464789</td>\n",
       "      <td>0.385075</td>\n",
       "      <td>0.215867</td>\n",
       "      <td>0</td>\n",
       "      <td>1</td>\n",
       "      <td>0</td>\n",
       "      <td>1</td>\n",
       "      <td>0</td>\n",
       "      <td>0</td>\n",
       "      <td>...</td>\n",
       "      <td>0</td>\n",
       "      <td>0</td>\n",
       "      <td>1</td>\n",
       "      <td>0</td>\n",
       "      <td>1</td>\n",
       "      <td>0</td>\n",
       "      <td>0</td>\n",
       "      <td>0</td>\n",
       "      <td>0</td>\n",
       "      <td>1</td>\n",
       "    </tr>\n",
       "    <tr>\n",
       "      <th>2</th>\n",
       "      <td>0</td>\n",
       "      <td>0.014085</td>\n",
       "      <td>0.354229</td>\n",
       "      <td>0.010310</td>\n",
       "      <td>1</td>\n",
       "      <td>1</td>\n",
       "      <td>0</td>\n",
       "      <td>1</td>\n",
       "      <td>0</td>\n",
       "      <td>0</td>\n",
       "      <td>...</td>\n",
       "      <td>0</td>\n",
       "      <td>1</td>\n",
       "      <td>0</td>\n",
       "      <td>0</td>\n",
       "      <td>0</td>\n",
       "      <td>1</td>\n",
       "      <td>0</td>\n",
       "      <td>0</td>\n",
       "      <td>0</td>\n",
       "      <td>1</td>\n",
       "    </tr>\n",
       "    <tr>\n",
       "      <th>3</th>\n",
       "      <td>0</td>\n",
       "      <td>0.619718</td>\n",
       "      <td>0.239303</td>\n",
       "      <td>0.210241</td>\n",
       "      <td>0</td>\n",
       "      <td>1</td>\n",
       "      <td>0</td>\n",
       "      <td>1</td>\n",
       "      <td>0</td>\n",
       "      <td>1</td>\n",
       "      <td>...</td>\n",
       "      <td>0</td>\n",
       "      <td>0</td>\n",
       "      <td>1</td>\n",
       "      <td>0</td>\n",
       "      <td>1</td>\n",
       "      <td>0</td>\n",
       "      <td>1</td>\n",
       "      <td>0</td>\n",
       "      <td>0</td>\n",
       "      <td>0</td>\n",
       "    </tr>\n",
       "    <tr>\n",
       "      <th>4</th>\n",
       "      <td>0</td>\n",
       "      <td>0.014085</td>\n",
       "      <td>0.521891</td>\n",
       "      <td>0.015330</td>\n",
       "      <td>1</td>\n",
       "      <td>1</td>\n",
       "      <td>0</td>\n",
       "      <td>1</td>\n",
       "      <td>0</td>\n",
       "      <td>0</td>\n",
       "      <td>...</td>\n",
       "      <td>0</td>\n",
       "      <td>1</td>\n",
       "      <td>0</td>\n",
       "      <td>0</td>\n",
       "      <td>0</td>\n",
       "      <td>1</td>\n",
       "      <td>0</td>\n",
       "      <td>0</td>\n",
       "      <td>1</td>\n",
       "      <td>0</td>\n",
       "    </tr>\n",
       "    <tr>\n",
       "      <th>...</th>\n",
       "      <td>...</td>\n",
       "      <td>...</td>\n",
       "      <td>...</td>\n",
       "      <td>...</td>\n",
       "      <td>...</td>\n",
       "      <td>...</td>\n",
       "      <td>...</td>\n",
       "      <td>...</td>\n",
       "      <td>...</td>\n",
       "      <td>...</td>\n",
       "      <td>...</td>\n",
       "      <td>...</td>\n",
       "      <td>...</td>\n",
       "      <td>...</td>\n",
       "      <td>...</td>\n",
       "      <td>...</td>\n",
       "      <td>...</td>\n",
       "      <td>...</td>\n",
       "      <td>...</td>\n",
       "      <td>...</td>\n",
       "      <td>...</td>\n",
       "    </tr>\n",
       "    <tr>\n",
       "      <th>7027</th>\n",
       "      <td>0</td>\n",
       "      <td>0.323944</td>\n",
       "      <td>0.662189</td>\n",
       "      <td>0.227521</td>\n",
       "      <td>0</td>\n",
       "      <td>0</td>\n",
       "      <td>1</td>\n",
       "      <td>0</td>\n",
       "      <td>1</td>\n",
       "      <td>0</td>\n",
       "      <td>...</td>\n",
       "      <td>1</td>\n",
       "      <td>0</td>\n",
       "      <td>1</td>\n",
       "      <td>0</td>\n",
       "      <td>0</td>\n",
       "      <td>1</td>\n",
       "      <td>0</td>\n",
       "      <td>0</td>\n",
       "      <td>0</td>\n",
       "      <td>1</td>\n",
       "    </tr>\n",
       "    <tr>\n",
       "      <th>7028</th>\n",
       "      <td>0</td>\n",
       "      <td>1.000000</td>\n",
       "      <td>0.845274</td>\n",
       "      <td>0.847461</td>\n",
       "      <td>0</td>\n",
       "      <td>0</td>\n",
       "      <td>1</td>\n",
       "      <td>0</td>\n",
       "      <td>1</td>\n",
       "      <td>0</td>\n",
       "      <td>...</td>\n",
       "      <td>1</td>\n",
       "      <td>0</td>\n",
       "      <td>1</td>\n",
       "      <td>0</td>\n",
       "      <td>0</td>\n",
       "      <td>1</td>\n",
       "      <td>0</td>\n",
       "      <td>1</td>\n",
       "      <td>0</td>\n",
       "      <td>0</td>\n",
       "    </tr>\n",
       "    <tr>\n",
       "      <th>7029</th>\n",
       "      <td>0</td>\n",
       "      <td>0.140845</td>\n",
       "      <td>0.112935</td>\n",
       "      <td>0.037809</td>\n",
       "      <td>0</td>\n",
       "      <td>0</td>\n",
       "      <td>1</td>\n",
       "      <td>0</td>\n",
       "      <td>1</td>\n",
       "      <td>1</td>\n",
       "      <td>...</td>\n",
       "      <td>0</td>\n",
       "      <td>1</td>\n",
       "      <td>0</td>\n",
       "      <td>0</td>\n",
       "      <td>0</td>\n",
       "      <td>1</td>\n",
       "      <td>0</td>\n",
       "      <td>0</td>\n",
       "      <td>1</td>\n",
       "      <td>0</td>\n",
       "    </tr>\n",
       "    <tr>\n",
       "      <th>7030</th>\n",
       "      <td>1</td>\n",
       "      <td>0.042254</td>\n",
       "      <td>0.558706</td>\n",
       "      <td>0.033210</td>\n",
       "      <td>1</td>\n",
       "      <td>0</td>\n",
       "      <td>1</td>\n",
       "      <td>1</td>\n",
       "      <td>0</td>\n",
       "      <td>0</td>\n",
       "      <td>...</td>\n",
       "      <td>0</td>\n",
       "      <td>1</td>\n",
       "      <td>0</td>\n",
       "      <td>0</td>\n",
       "      <td>0</td>\n",
       "      <td>1</td>\n",
       "      <td>0</td>\n",
       "      <td>0</td>\n",
       "      <td>0</td>\n",
       "      <td>1</td>\n",
       "    </tr>\n",
       "    <tr>\n",
       "      <th>7031</th>\n",
       "      <td>0</td>\n",
       "      <td>0.915493</td>\n",
       "      <td>0.869652</td>\n",
       "      <td>0.787641</td>\n",
       "      <td>0</td>\n",
       "      <td>1</td>\n",
       "      <td>0</td>\n",
       "      <td>1</td>\n",
       "      <td>0</td>\n",
       "      <td>0</td>\n",
       "      <td>...</td>\n",
       "      <td>1</td>\n",
       "      <td>0</td>\n",
       "      <td>0</td>\n",
       "      <td>1</td>\n",
       "      <td>0</td>\n",
       "      <td>1</td>\n",
       "      <td>1</td>\n",
       "      <td>0</td>\n",
       "      <td>0</td>\n",
       "      <td>0</td>\n",
       "    </tr>\n",
       "  </tbody>\n",
       "</table>\n",
       "<p>7032 rows × 44 columns</p>\n",
       "</div>"
      ],
      "text/plain": [
       "      SeniorCitizen    tenure  MonthlyCharges  TotalCharges  Churn  \\\n",
       "0                 0  0.000000        0.115423      0.001275      0   \n",
       "1                 0  0.464789        0.385075      0.215867      0   \n",
       "2                 0  0.014085        0.354229      0.010310      1   \n",
       "3                 0  0.619718        0.239303      0.210241      0   \n",
       "4                 0  0.014085        0.521891      0.015330      1   \n",
       "...             ...       ...             ...           ...    ...   \n",
       "7027              0  0.323944        0.662189      0.227521      0   \n",
       "7028              0  1.000000        0.845274      0.847461      0   \n",
       "7029              0  0.140845        0.112935      0.037809      0   \n",
       "7030              1  0.042254        0.558706      0.033210      1   \n",
       "7031              0  0.915493        0.869652      0.787641      0   \n",
       "\n",
       "      Partner_No  Partner_Yes  Dependents_No  Dependents_Yes  PhoneService_No  \\\n",
       "0              0            1              1               0                1   \n",
       "1              1            0              1               0                0   \n",
       "2              1            0              1               0                0   \n",
       "3              1            0              1               0                1   \n",
       "4              1            0              1               0                0   \n",
       "...          ...          ...            ...             ...              ...   \n",
       "7027           0            1              0               1                0   \n",
       "7028           0            1              0               1                0   \n",
       "7029           0            1              0               1                1   \n",
       "7030           0            1              1               0                0   \n",
       "7031           1            0              1               0                0   \n",
       "\n",
       "      ...  StreamingMovies_Yes  Contract_Month-to-month  Contract_One year  \\\n",
       "0     ...                    0                        1                  0   \n",
       "1     ...                    0                        0                  1   \n",
       "2     ...                    0                        1                  0   \n",
       "3     ...                    0                        0                  1   \n",
       "4     ...                    0                        1                  0   \n",
       "...   ...                  ...                      ...                ...   \n",
       "7027  ...                    1                        0                  1   \n",
       "7028  ...                    1                        0                  1   \n",
       "7029  ...                    0                        1                  0   \n",
       "7030  ...                    0                        1                  0   \n",
       "7031  ...                    1                        0                  0   \n",
       "\n",
       "      Contract_Two year  PaperlessBilling_No  PaperlessBilling_Yes  \\\n",
       "0                     0                    0                     1   \n",
       "1                     0                    1                     0   \n",
       "2                     0                    0                     1   \n",
       "3                     0                    1                     0   \n",
       "4                     0                    0                     1   \n",
       "...                 ...                  ...                   ...   \n",
       "7027                  0                    0                     1   \n",
       "7028                  0                    0                     1   \n",
       "7029                  0                    0                     1   \n",
       "7030                  0                    0                     1   \n",
       "7031                  1                    0                     1   \n",
       "\n",
       "      PaymentMethod_Bank transfer (automatic)  \\\n",
       "0                                           0   \n",
       "1                                           0   \n",
       "2                                           0   \n",
       "3                                           1   \n",
       "4                                           0   \n",
       "...                                       ...   \n",
       "7027                                        0   \n",
       "7028                                        0   \n",
       "7029                                        0   \n",
       "7030                                        0   \n",
       "7031                                        1   \n",
       "\n",
       "      PaymentMethod_Credit card (automatic)  PaymentMethod_Electronic check  \\\n",
       "0                                         0                               1   \n",
       "1                                         0                               0   \n",
       "2                                         0                               0   \n",
       "3                                         0                               0   \n",
       "4                                         0                               1   \n",
       "...                                     ...                             ...   \n",
       "7027                                      0                               0   \n",
       "7028                                      1                               0   \n",
       "7029                                      0                               1   \n",
       "7030                                      0                               0   \n",
       "7031                                      0                               0   \n",
       "\n",
       "      PaymentMethod_Mailed check  \n",
       "0                              0  \n",
       "1                              1  \n",
       "2                              1  \n",
       "3                              0  \n",
       "4                              0  \n",
       "...                          ...  \n",
       "7027                           1  \n",
       "7028                           0  \n",
       "7029                           0  \n",
       "7030                           1  \n",
       "7031                           0  \n",
       "\n",
       "[7032 rows x 44 columns]"
      ]
     },
     "execution_count": 296,
     "metadata": {},
     "output_type": "execute_result"
    }
   ],
   "source": [
    "churn.drop('gender_Female', axis=1, inplace =True)\n",
    "churn.drop('gender_Male', axis=1, inplace =True)\n",
    "churn"
   ]
  },
  {
   "cell_type": "code",
   "execution_count": 297,
   "id": "2f34b3fc",
   "metadata": {},
   "outputs": [],
   "source": [
    "x = churn.drop('Churn', axis = 1)\n",
    "y = churn['Churn']"
   ]
  },
  {
   "cell_type": "code",
   "execution_count": 298,
   "id": "d0877fa0",
   "metadata": {},
   "outputs": [],
   "source": [
    "x_train, x_test, y_train, y_test = train_test_split(x,y,test_size=.25, random_state=42)"
   ]
  },
  {
   "cell_type": "markdown",
   "id": "9d5b3f00",
   "metadata": {},
   "source": [
    "# Running with default random forest hyperparameter model - AUC achieves 0.81"
   ]
  },
  {
   "cell_type": "code",
   "execution_count": 299,
   "id": "ab518b2b",
   "metadata": {},
   "outputs": [],
   "source": [
    "model_rf = RandomForestClassifier(random_state = 42)"
   ]
  },
  {
   "cell_type": "code",
   "execution_count": 300,
   "id": "b6f4cc67",
   "metadata": {},
   "outputs": [
    {
     "data": {
      "text/plain": [
       "{'bootstrap': True,\n",
       " 'ccp_alpha': 0.0,\n",
       " 'class_weight': None,\n",
       " 'criterion': 'gini',\n",
       " 'max_depth': None,\n",
       " 'max_features': 'auto',\n",
       " 'max_leaf_nodes': None,\n",
       " 'max_samples': None,\n",
       " 'min_impurity_decrease': 0.0,\n",
       " 'min_samples_leaf': 1,\n",
       " 'min_samples_split': 2,\n",
       " 'min_weight_fraction_leaf': 0.0,\n",
       " 'n_estimators': 100,\n",
       " 'n_jobs': None,\n",
       " 'oob_score': False,\n",
       " 'random_state': 42,\n",
       " 'verbose': 0,\n",
       " 'warm_start': False}"
      ]
     },
     "execution_count": 300,
     "metadata": {},
     "output_type": "execute_result"
    }
   ],
   "source": [
    "model_rf.get_params()"
   ]
  },
  {
   "cell_type": "code",
   "execution_count": 301,
   "id": "265753fb",
   "metadata": {},
   "outputs": [
    {
     "data": {
      "text/plain": [
       "RandomForestClassifier(random_state=42)"
      ]
     },
     "execution_count": 301,
     "metadata": {},
     "output_type": "execute_result"
    }
   ],
   "source": [
    "model_rf.fit(x_train, y_train)"
   ]
  },
  {
   "cell_type": "code",
   "execution_count": 302,
   "id": "acc8b53d",
   "metadata": {},
   "outputs": [],
   "source": [
    "y_pred = model_rf.predict(x_test)"
   ]
  },
  {
   "cell_type": "code",
   "execution_count": 303,
   "id": "ac3d3fa1",
   "metadata": {},
   "outputs": [
    {
     "name": "stdout",
     "output_type": "stream",
     "text": [
      "              precision    recall  f1-score   support\n",
      "\n",
      "           0       0.83      0.89      0.86      1300\n",
      "           1       0.61      0.49      0.54       458\n",
      "\n",
      "    accuracy                           0.78      1758\n",
      "   macro avg       0.72      0.69      0.70      1758\n",
      "weighted avg       0.77      0.78      0.78      1758\n",
      "\n"
     ]
    }
   ],
   "source": [
    "from sklearn.metrics import classification_report\n",
    "print(classification_report(y_test,y_pred,labels=[0,1]))"
   ]
  },
  {
   "cell_type": "code",
   "execution_count": 304,
   "id": "ffed1317",
   "metadata": {},
   "outputs": [
    {
     "name": "stdout",
     "output_type": "stream",
     "text": [
      "[[1157  143]\n",
      " [ 235  223]]\n"
     ]
    }
   ],
   "source": [
    "from sklearn.metrics import confusion_matrix\n",
    "print(confusion_matrix(y_test,y_pred))"
   ]
  },
  {
   "cell_type": "code",
   "execution_count": 305,
   "id": "9712dfa0",
   "metadata": {},
   "outputs": [
    {
     "name": "stdout",
     "output_type": "stream",
     "text": [
      "model score on training data: 0.997535077739856\n",
      "model score on testing data: 0.7849829351535836\n"
     ]
    }
   ],
   "source": [
    "print(f'model score on training data: {model_rf.score(x_train, y_train)}')\n",
    "print(f'model score on testing data: {model_rf.score(x_test, y_test)}')\n",
    "# Overfitting"
   ]
  },
  {
   "cell_type": "code",
   "execution_count": 306,
   "id": "8c3b9100",
   "metadata": {},
   "outputs": [
    {
     "name": "stdout",
     "output_type": "stream",
     "text": [
      "AUC for random forest before hyperparameter tunning is  0.8114200537453813\n"
     ]
    }
   ],
   "source": [
    "import sklearn.metrics as metrics\n",
    "#first method to calculate AUC\n",
    "y_pred_proba = model_rf.predict_proba(x_test)[::,1]\n",
    "fpr, tpr, _ = metrics.roc_curve(y_test,  y_pred_proba)\n",
    "auc = metrics.roc_auc_score(y_test, y_pred_proba)\n",
    "print('AUC for random forest before hyperparameter tunning is ', auc)"
   ]
  },
  {
   "cell_type": "code",
   "execution_count": 307,
   "id": "b9087c4b",
   "metadata": {},
   "outputs": [],
   "source": [
    "# Second method to calculate AUC\n",
    "fpr, tpr, threshold = metrics.roc_curve(y_test, y_pred_proba)\n",
    "roc_auc = metrics.auc(fpr, tpr)"
   ]
  },
  {
   "cell_type": "code",
   "execution_count": 308,
   "id": "860557d3",
   "metadata": {},
   "outputs": [
    {
     "data": {
      "image/png": "[encoded data removed]",
      "text/plain": [
       "<Figure size 432x288 with 1 Axes>"
      ]
     },
     "metadata": {
      "needs_background": "light"
     },
     "output_type": "display_data"
    }
   ],
   "source": [
    "import matplotlib.pyplot as plt\n",
    "plt.plot(fpr,tpr,label=\"AUC=\"+str(auc))\n",
    "plt.ylabel('True Positive Rate')\n",
    "plt.xlabel('False Positive Rate')\n",
    "plt.legend(loc=4)\n",
    "plt.show()"
   ]
  },
  {
   "cell_type": "code",
   "execution_count": 309,
   "id": "9ea0cfd7",
   "metadata": {},
   "outputs": [
    {
     "name": "stdout",
     "output_type": "stream",
     "text": [
      "AUC of RandomForest is 0.8114200537453813\n"
     ]
    }
   ],
   "source": [
    "print(f'AUC of RandomForest is {roc_auc}')"
   ]
  },
  {
   "cell_type": "markdown",
   "id": "16a3614b",
   "metadata": {},
   "source": [
    "### Gradient Boosting - AUC achieves 0.832"
   ]
  },
  {
   "cell_type": "code",
   "execution_count": 310,
   "id": "2e954936",
   "metadata": {},
   "outputs": [],
   "source": [
    "from sklearn.ensemble import GradientBoostingClassifier"
   ]
  },
  {
   "cell_type": "code",
   "execution_count": 311,
   "id": "010a5ca1",
   "metadata": {},
   "outputs": [],
   "source": [
    "model_gbc = GradientBoostingClassifier(random_state = 42)"
   ]
  },
  {
   "cell_type": "code",
   "execution_count": 312,
   "id": "c93f8c73",
   "metadata": {},
   "outputs": [
    {
     "data": {
      "text/plain": [
       "GradientBoostingClassifier(random_state=42)"
      ]
     },
     "execution_count": 312,
     "metadata": {},
     "output_type": "execute_result"
    }
   ],
   "source": [
    "model_gbc.fit(x_train, y_train)"
   ]
  },
  {
   "cell_type": "code",
   "execution_count": 313,
   "id": "a325167b",
   "metadata": {},
   "outputs": [],
   "source": [
    "y_predict = model_gbc.predict(x_test)"
   ]
  },
  {
   "cell_type": "code",
   "execution_count": 314,
   "id": "5d5d5f40",
   "metadata": {},
   "outputs": [
    {
     "data": {
      "text/plain": [
       "0.7878270762229806"
      ]
     },
     "execution_count": 314,
     "metadata": {},
     "output_type": "execute_result"
    }
   ],
   "source": [
    "model_gbc.score(x_test,y_test)"
   ]
  },
  {
   "cell_type": "code",
   "execution_count": 315,
   "id": "2d1c26af",
   "metadata": {},
   "outputs": [
    {
     "name": "stdout",
     "output_type": "stream",
     "text": [
      "              precision    recall  f1-score   support\n",
      "\n",
      "           0       0.83      0.90      0.86      1300\n",
      "           1       0.62      0.48      0.54       458\n",
      "\n",
      "    accuracy                           0.79      1758\n",
      "   macro avg       0.73      0.69      0.70      1758\n",
      "weighted avg       0.78      0.79      0.78      1758\n",
      "\n"
     ]
    }
   ],
   "source": [
    "print(classification_report(y_test,y_predict, labels=[0,1]))"
   ]
  },
  {
   "cell_type": "code",
   "execution_count": 316,
   "id": "672b851d",
   "metadata": {},
   "outputs": [
    {
     "name": "stdout",
     "output_type": "stream",
     "text": [
      "[[1167  133]\n",
      " [ 240  218]]\n"
     ]
    }
   ],
   "source": [
    "print(confusion_matrix(y_test,y_predict))"
   ]
  },
  {
   "cell_type": "code",
   "execution_count": 317,
   "id": "0fcb168a",
   "metadata": {},
   "outputs": [
    {
     "name": "stdout",
     "output_type": "stream",
     "text": [
      "model score on training data: 0.8320060675009481\n",
      "model score on testing data: 0.7878270762229806\n"
     ]
    }
   ],
   "source": [
    "print(f'model score on training data: {model_gbc.score(x_train, y_train)}')\n",
    "print(f'model score on testing data: {model_gbc.score(x_test, y_test)}')"
   ]
  },
  {
   "cell_type": "code",
   "execution_count": 318,
   "id": "20cdbf79",
   "metadata": {},
   "outputs": [],
   "source": [
    "y_pred_prob = model_gbc.predict_proba(x_test)[:,1]\n",
    "fpr, tpr, threshold = metrics.roc_curve(y_test, y_pred_prob)\n",
    "auc = metrics.auc(fpr,tpr)"
   ]
  },
  {
   "cell_type": "code",
   "execution_count": 319,
   "id": "aa63489c",
   "metadata": {
    "scrolled": true
   },
   "outputs": [
    {
     "data": {
      "text/plain": [
       "Text(0, 0.5, 'True Positive Rate')"
      ]
     },
     "execution_count": 319,
     "metadata": {},
     "output_type": "execute_result"
    },
    {
     "data": {
      "image/png": "[encoded data removed]",
      "text/plain": [
       "<Figure size 432x288 with 1 Axes>"
      ]
     },
     "metadata": {
      "needs_background": "light"
     },
     "output_type": "display_data"
    }
   ],
   "source": [
    "plt.plot(fpr,tpr, label='auc='+str(auc))\n",
    "plt.legend(loc=4)\n",
    "plt.xlabel('False Positive Rate')\n",
    "plt.ylabel('True Positive Rate')"
   ]
  },
  {
   "cell_type": "code",
   "execution_count": 320,
   "id": "154cc573",
   "metadata": {},
   "outputs": [
    {
     "name": "stdout",
     "output_type": "stream",
     "text": [
      "AUC of GBC is =0.8322388310379576\n"
     ]
    }
   ],
   "source": [
    "print(f'AUC of GBC is ={auc}')"
   ]
  },
  {
   "cell_type": "markdown",
   "id": "af1dcc3a",
   "metadata": {},
   "source": [
    "## Logistic Regression - AUC achieves 0.834"
   ]
  },
  {
   "cell_type": "code",
   "execution_count": 321,
   "id": "9b27ecac",
   "metadata": {},
   "outputs": [],
   "source": [
    "from sklearn.linear_model import LogisticRegression"
   ]
  },
  {
   "cell_type": "code",
   "execution_count": 322,
   "id": "ea9ff256",
   "metadata": {},
   "outputs": [],
   "source": [
    "model_lr = LogisticRegression(random_state = 42)"
   ]
  },
  {
   "cell_type": "code",
   "execution_count": 323,
   "id": "18bf7654",
   "metadata": {},
   "outputs": [
    {
     "data": {
      "text/plain": [
       "LogisticRegression(random_state=42)"
      ]
     },
     "execution_count": 323,
     "metadata": {},
     "output_type": "execute_result"
    }
   ],
   "source": [
    "model_lr.fit(x_train,y_train)"
   ]
  },
  {
   "cell_type": "code",
   "execution_count": 324,
   "id": "e3533d57",
   "metadata": {},
   "outputs": [
    {
     "data": {
      "text/plain": [
       "0.7923777019340159"
      ]
     },
     "execution_count": 324,
     "metadata": {},
     "output_type": "execute_result"
    }
   ],
   "source": [
    "y_pr = model_lr.predict(x_test)\n",
    "model_lr.score(x_test,y_test)"
   ]
  },
  {
   "cell_type": "code",
   "execution_count": 325,
   "id": "c39ae4bd",
   "metadata": {},
   "outputs": [
    {
     "name": "stdout",
     "output_type": "stream",
     "text": [
      "              precision    recall  f1-score   support\n",
      "\n",
      "           0       0.84      0.89      0.86      1300\n",
      "           1       0.62      0.52      0.56       458\n",
      "\n",
      "    accuracy                           0.79      1758\n",
      "   macro avg       0.73      0.70      0.71      1758\n",
      "weighted avg       0.78      0.79      0.79      1758\n",
      "\n"
     ]
    }
   ],
   "source": [
    "print(classification_report(y_test, y_pr, labels=[0,1]))"
   ]
  },
  {
   "cell_type": "code",
   "execution_count": 326,
   "id": "f82a5342",
   "metadata": {},
   "outputs": [
    {
     "name": "stdout",
     "output_type": "stream",
     "text": [
      "model score on training data: 0.8056503602578687\n",
      "model score on testing data: 0.7923777019340159\n"
     ]
    }
   ],
   "source": [
    "print(f'model score on training data: {model_lr.score(x_train, y_train)}')\n",
    "print(f'model score on testing data: {model_lr.score(x_test, y_test)}')"
   ]
  },
  {
   "cell_type": "code",
   "execution_count": 327,
   "id": "a066f05a",
   "metadata": {},
   "outputs": [],
   "source": [
    "import sklearn.metrics as metrics\n",
    "y_pred_prob = model_lr.predict_proba(x_test)[:,1]\n",
    "fpr, tpr, threshold = metrics.roc_curve(y_test, y_pred_prob)\n",
    "auc = metrics.auc(fpr,tpr)"
   ]
  },
  {
   "cell_type": "code",
   "execution_count": 328,
   "id": "213ee7a8",
   "metadata": {},
   "outputs": [
    {
     "data": {
      "text/plain": [
       "Text(0, 0.5, 'True Positive Rate')"
      ]
     },
     "execution_count": 328,
     "metadata": {},
     "output_type": "execute_result"
    },
    {
     "data": {
      "image/png": "[encoded data removed]",
      "text/plain": [
       "<Figure size 432x288 with 1 Axes>"
      ]
     },
     "metadata": {
      "needs_background": "light"
     },
     "output_type": "display_data"
    }
   ],
   "source": [
    "plt.plot(fpr,tpr, label = 'AUC=' + str(auc))\n",
    "plt.legend(loc = 4)\n",
    "plt.xlabel('False Positive Rate')\n",
    "plt.ylabel('True Positive Rate')"
   ]
  },
  {
   "cell_type": "markdown",
   "id": "2008938f",
   "metadata": {},
   "source": [
    "# Logistic Regression hyperparameter tunning - AUC 0.8345"
   ]
  },
  {
   "cell_type": "code",
   "execution_count": 329,
   "id": "832987b3",
   "metadata": {},
   "outputs": [],
   "source": [
    "from sklearn.model_selection import GridSearchCV\n",
    "param_grid = {\n",
    "    'C': [0.001, 0.01, 0.1, 1, 10, 100],\n",
    "    'penalty': ['l1', 'l2'],\n",
    "    'solver': ['liblinear', 'saga']\n",
    "}"
   ]
  },
  {
   "cell_type": "code",
   "execution_count": 330,
   "id": "391179ad",
   "metadata": {},
   "outputs": [
    {
     "name": "stdout",
     "output_type": "stream",
     "text": [
      "Best Parameters:  {'C': 100, 'penalty': 'l1', 'solver': 'saga'}\n"
     ]
    }
   ],
   "source": [
    "logreg = LogisticRegression()\n",
    "grid_search = GridSearchCV(logreg, param_grid, cv=5, scoring='roc_auc')\n",
    "grid_search.fit(x_test, y_test)\n",
    "print(\"Best Parameters: \", grid_search.best_params_)\n",
    "warnings.filterwarnings(\"ignore\", category=DeprecationWarning, module=\"sklearn\")"
   ]
  },
  {
   "cell_type": "code",
   "execution_count": 331,
   "id": "5d83c89f",
   "metadata": {},
   "outputs": [
    {
     "data": {
      "text/plain": [
       "0.8345339267719181"
      ]
     },
     "execution_count": 331,
     "metadata": {},
     "output_type": "execute_result"
    }
   ],
   "source": [
    "model_lr = LogisticRegression(random_state = 42, C= 10, penalty = 'l1', solver = 'saga')\n",
    "model_lr.fit(x_train,y_train)\n",
    "y_pred_prob = model_lr.predict_proba(x_test)[:,1]\n",
    "fpr, tpr, threshold = metrics.roc_curve(y_test, y_pred_prob)\n",
    "auc = metrics.auc(fpr,tpr)\n",
    "auc"
   ]
  },
  {
   "cell_type": "markdown",
   "id": "fc1dda67",
   "metadata": {},
   "source": [
    "# Running with the best hyperparameter model by RandomSearchCV - AUC achieves 0.82"
   ]
  },
  {
   "cell_type": "code",
   "execution_count": 332,
   "id": "ff8b8711",
   "metadata": {},
   "outputs": [
    {
     "name": "stdout",
     "output_type": "stream",
     "text": [
      "{'bootstrap': [True, False],\n",
      " 'max_depth': [5, 6, 7, 8, 80, 90, 100, None],\n",
      " 'max_features': ['auto', 'sqrt'],\n",
      " 'min_samples_leaf': [1, 2, 3, 4, 5],\n",
      " 'min_samples_split': [2, 5, 10, 8, 12],\n",
      " 'n_estimators': [20, 30, 40, 50, 60, 70, 80, 90, 100, 200]}\n"
     ]
    }
   ],
   "source": [
    "from sklearn.model_selection import RandomizedSearchCV\n",
    "import numpy as np\n",
    "from pprint import pprint\n",
    "# Number of trees in random forest\n",
    "n_estimators = [20,30,40,50,60,70,80,90,100,200]\n",
    "# Number of features to consider at every split\n",
    "max_features = ['auto', 'sqrt']\n",
    "# Maximum number of levels in tree\n",
    "max_depth = [int(x) for x in (5,6,7,8, 80,90,100)]\n",
    "max_depth.append(None)\n",
    "# Minimum number of samples required to split a node\n",
    "min_samples_split = [2, 5, 10, 8, 12]\n",
    "# Minimum number of samples required at each leaf node\n",
    "min_samples_leaf = [1, 2, 3, 4, 5]\n",
    "# Method of selecting samples for training each tree\n",
    "bootstrap = [True, False]\n",
    "\n",
    "# Create the random grid\n",
    "random_grid = {'n_estimators': n_estimators,\n",
    "               'max_features': max_features,\n",
    "               'max_depth': max_depth,\n",
    "               'min_samples_split': min_samples_split,\n",
    "               'min_samples_leaf': min_samples_leaf,\n",
    "               'bootstrap': bootstrap}\n",
    "\n",
    "pprint(random_grid)"
   ]
  },
  {
   "cell_type": "code",
   "execution_count": 333,
   "id": "93e516dc",
   "metadata": {},
   "outputs": [
    {
     "name": "stdout",
     "output_type": "stream",
     "text": [
      "Fitting 3 folds for each of 100 candidates, totalling 300 fits\n"
     ]
    }
   ],
   "source": [
    "# Use the random grid to search for best hyperparameters\n",
    "# First create the base model to tune\n",
    "rf = RandomForestClassifier(random_state = 42)\n",
    "# Random search of parameters, using 3 fold cross validation, \n",
    "# search across 100 different combinations, and use all available cores\n",
    "rf_random = RandomizedSearchCV(estimator=rf, param_distributions=random_grid,\n",
    "                              n_iter = 100, scoring='neg_mean_absolute_error', \n",
    "                              cv = 3, verbose=3, random_state=42, n_jobs=-1,\n",
    "                              return_train_score=True)\n",
    "\n",
    "# Fit the random search model\n",
    "rf_random.fit(x_train, y_train);"
   ]
  },
  {
   "cell_type": "code",
   "execution_count": 334,
   "id": "ed088a18",
   "metadata": {},
   "outputs": [
    {
     "data": {
      "text/plain": [
       "{'n_estimators': 40,\n",
       " 'min_samples_split': 8,\n",
       " 'min_samples_leaf': 3,\n",
       " 'max_features': 'sqrt',\n",
       " 'max_depth': 90,\n",
       " 'bootstrap': True}"
      ]
     },
     "execution_count": 334,
     "metadata": {},
     "output_type": "execute_result"
    }
   ],
   "source": [
    "rf_random.best_params_"
   ]
  },
  {
   "cell_type": "code",
   "execution_count": 335,
   "id": "acc25ec5",
   "metadata": {},
   "outputs": [],
   "source": [
    "rf_model = RandomForestClassifier(random_state = 42,n_estimators=40, min_samples_split = 8, \n",
    "                                  min_samples_leaf = 3, max_features = 'sqrt',max_depth = 90, bootstrap = True)"
   ]
  },
  {
   "cell_type": "code",
   "execution_count": 336,
   "id": "a4498f62",
   "metadata": {},
   "outputs": [
    {
     "data": {
      "text/plain": [
       "RandomForestClassifier(max_depth=90, max_features='sqrt', min_samples_leaf=3,\n",
       "                       min_samples_split=8, n_estimators=40, random_state=42)"
      ]
     },
     "execution_count": 336,
     "metadata": {},
     "output_type": "execute_result"
    }
   ],
   "source": [
    "rf_model.fit(x_train, y_train)"
   ]
  },
  {
   "cell_type": "code",
   "execution_count": 337,
   "id": "55526a8b",
   "metadata": {},
   "outputs": [],
   "source": [
    "y_pre = rf_model.predict(x_test)"
   ]
  },
  {
   "cell_type": "code",
   "execution_count": 338,
   "id": "c87986e7",
   "metadata": {},
   "outputs": [
    {
     "name": "stdout",
     "output_type": "stream",
     "text": [
      "              precision    recall  f1-score   support\n",
      "\n",
      "           0       0.83      0.91      0.87      1300\n",
      "           1       0.65      0.49      0.56       458\n",
      "\n",
      "    accuracy                           0.80      1758\n",
      "   macro avg       0.74      0.70      0.71      1758\n",
      "weighted avg       0.79      0.80      0.79      1758\n",
      "\n"
     ]
    }
   ],
   "source": [
    "print(classification_report(y_test,y_pre, labels=[0,1]))"
   ]
  },
  {
   "cell_type": "code",
   "execution_count": 339,
   "id": "9a216a24",
   "metadata": {},
   "outputs": [
    {
     "name": "stdout",
     "output_type": "stream",
     "text": [
      "AUC for random forest after Random Search CV hyperparameter tunning is  0.8264049378569029\n"
     ]
    }
   ],
   "source": [
    "y_proba = rf_model.predict_proba(x_test)[::,1]\n",
    "fpr, tpr, _ = metrics.roc_curve(y_test,  y_proba)\n",
    "auc = metrics.roc_auc_score(y_test, y_proba)\n",
    "print('AUC for random forest after Random Search CV hyperparameter tunning is ', auc)"
   ]
  },
  {
   "cell_type": "code",
   "execution_count": 340,
   "id": "81f0e4ad",
   "metadata": {},
   "outputs": [
    {
     "name": "stdout",
     "output_type": "stream",
     "text": [
      "model score on training data: 0.8754266211604096\n",
      "model score on testing data: 0.7969283276450512\n"
     ]
    }
   ],
   "source": [
    "print(f'model score on training data: {rf_model.score(x_train, y_train)}')\n",
    "print(f'model score on testing data: {rf_model.score(x_test, y_test)}')"
   ]
  },
  {
   "cell_type": "code",
   "execution_count": 341,
   "id": "d03045d5",
   "metadata": {},
   "outputs": [
    {
     "data": {
      "image/png": "[encoded data removed]",
      "text/plain": [
       "<Figure size 1440x1440 with 1 Axes>"
      ]
     },
     "metadata": {
      "needs_background": "light"
     },
     "output_type": "display_data"
    }
   ],
   "source": [
    "importances = rf_model.feature_importances_\n",
    "indices = np.argsort(importances)\n",
    "fig, ax = plt.subplots(figsize=(20,20))\n",
    "ax.barh(range(len(importances)), importances[indices])\n",
    "ax.set_yticks(range(len(importances)))\n",
    "_ = ax.set_yticklabels(np.array(x_train.columns)[indices])"
   ]
  },
  {
   "cell_type": "code",
   "execution_count": 342,
   "id": "677e7f77",
   "metadata": {},
   "outputs": [],
   "source": [
    "x1 = churn.drop('PhoneService_Yes', axis = 1)\n",
    "x1 = x1.drop('PhoneService_No', axis =1)\n",
    "x1 = x1.drop('Churn', axis =1)\n",
    "y = churn['Churn']\n",
    "X_N, X_T, Y_N, Y_T = train_test_split(x1,y,test_size=.25, random_state=42)"
   ]
  },
  {
   "cell_type": "code",
   "execution_count": 343,
   "id": "3509f285",
   "metadata": {},
   "outputs": [
    {
     "data": {
      "text/plain": [
       "RandomForestClassifier(max_depth=90, max_features='sqrt', min_samples_leaf=3,\n",
       "                       min_samples_split=8, n_estimators=40, random_state=42)"
      ]
     },
     "execution_count": 343,
     "metadata": {},
     "output_type": "execute_result"
    }
   ],
   "source": [
    "rf_model.fit(X_N, Y_N)"
   ]
  },
  {
   "cell_type": "code",
   "execution_count": 366,
   "id": "e635501e",
   "metadata": {},
   "outputs": [
    {
     "name": "stdout",
     "output_type": "stream",
     "text": [
      "              precision    recall  f1-score   support\n",
      "\n",
      "           0       0.83      0.90      0.87      1300\n",
      "           1       0.64      0.49      0.55       458\n",
      "\n",
      "    accuracy                           0.80      1758\n",
      "   macro avg       0.74      0.70      0.71      1758\n",
      "weighted avg       0.78      0.80      0.79      1758\n",
      "\n"
     ]
    }
   ],
   "source": [
    "Y_P = rf_model.predict(X_T)\n",
    "print(classification_report(Y_T,Y_P, labels=[0,1]))"
   ]
  },
  {
   "cell_type": "code",
   "execution_count": 345,
   "id": "14d655d3",
   "metadata": {},
   "outputs": [
    {
     "name": "stdout",
     "output_type": "stream",
     "text": [
      "model score on training data: 0.8782707622298066\n",
      "model score on testing data: 0.7952218430034129\n"
     ]
    }
   ],
   "source": [
    "print(f'model score on training data: {rf_model.score(X_N, Y_N)}')\n",
    "print(f'model score on testing data: {rf_model.score(X_T, Y_T)}')"
   ]
  },
  {
   "cell_type": "markdown",
   "id": "6b09a861",
   "metadata": {},
   "source": [
    "## Haperparameter Tunning DridSearchCV -- AUC achieves 0.83"
   ]
  },
  {
   "cell_type": "code",
   "execution_count": 346,
   "id": "178d3ccc",
   "metadata": {},
   "outputs": [
    {
     "data": {
      "text/plain": [
       "\" \\nparam_grid = {\\n    'bootstrap' : [True],\\n    'max_depth' : [80,90,100,110],\\n    'max_features' : ['auto','squrt'],\\n    'min_samples_leaf' : [3,4,5],\\n    'min_samples_split' : [8,10,12],\\n    'n_estimators':[200,300,1000]\\n}\\n\\n\\nrf = RandomForestClassifier(random_state=42)\\nfrom sklearn.model_selection import GridSearchCV\\ngrid_search = GridSearchCV(estimator = rf, param_grid = param_grid,\\n                          cv=3, verbose=3, return_train_score=True)\\n\""
      ]
     },
     "execution_count": 346,
     "metadata": {},
     "output_type": "execute_result"
    }
   ],
   "source": [
    "''' \n",
    "param_grid = {\n",
    "    'bootstrap' : [True],\n",
    "    'max_depth' : [80,90,100,110],\n",
    "    'max_features' : ['auto','squrt'],\n",
    "    'min_samples_leaf' : [3,4,5],\n",
    "    'min_samples_split' : [8,10,12],\n",
    "    'n_estimators':[200,300,1000]\n",
    "}\n",
    "\n",
    "\n",
    "rf = RandomForestClassifier(random_state=42)\n",
    "from sklearn.model_selection import GridSearchCV\n",
    "grid_search = GridSearchCV(estimator = rf, param_grid = param_grid,\n",
    "                          cv=3, verbose=3, return_train_score=True)\n",
    "'''"
   ]
  },
  {
   "cell_type": "code",
   "execution_count": 347,
   "id": "8b99ffef",
   "metadata": {},
   "outputs": [
    {
     "data": {
      "text/plain": [
       "\"param_grid = {'bootstrap': True,\\n 'max_depth': 80,\\n 'max_features': 'auto',\\n 'min_samples_leaf': 5,\\n 'min_samples_split': 12,\\n 'n_estimators': 200}\\n \""
      ]
     },
     "execution_count": 347,
     "metadata": {},
     "output_type": "execute_result"
    }
   ],
   "source": [
    "'''param_grid = {'bootstrap': True,\n",
    " 'max_depth': 80,\n",
    " 'max_features': 'auto',\n",
    " 'min_samples_leaf': 5,\n",
    " 'min_samples_split': 12,\n",
    " 'n_estimators': 200}\n",
    " '''"
   ]
  },
  {
   "cell_type": "code",
   "execution_count": 348,
   "id": "80986565",
   "metadata": {},
   "outputs": [],
   "source": [
    "md_rf = RandomForestClassifier(random_state = 42, bootstrap= True,\n",
    "                               max_depth= 80,max_features= 'auto',min_samples_leaf= 5,\n",
    "                               min_samples_split= 12,n_estimators= 200)\n"
   ]
  },
  {
   "cell_type": "code",
   "execution_count": 349,
   "id": "3fef9300",
   "metadata": {},
   "outputs": [
    {
     "data": {
      "text/plain": [
       "RandomForestClassifier(max_depth=80, min_samples_leaf=5, min_samples_split=12,\n",
       "                       n_estimators=200, random_state=42)"
      ]
     },
     "execution_count": 349,
     "metadata": {},
     "output_type": "execute_result"
    }
   ],
   "source": [
    "md_rf.fit(x_train,y_train)"
   ]
  },
  {
   "cell_type": "code",
   "execution_count": 350,
   "id": "d019c796",
   "metadata": {},
   "outputs": [],
   "source": [
    "y_pred1=md_rf.predict(x_test)"
   ]
  },
  {
   "cell_type": "code",
   "execution_count": 351,
   "id": "7b048450",
   "metadata": {},
   "outputs": [
    {
     "name": "stdout",
     "output_type": "stream",
     "text": [
      "              precision    recall  f1-score   support\n",
      "\n",
      "           0       0.83      0.91      0.87      1300\n",
      "           1       0.66      0.48      0.56       458\n",
      "\n",
      "    accuracy                           0.80      1758\n",
      "   macro avg       0.75      0.70      0.72      1758\n",
      "weighted avg       0.79      0.80      0.79      1758\n",
      "\n"
     ]
    }
   ],
   "source": [
    "print(classification_report(y_test,y_pred1))"
   ]
  },
  {
   "cell_type": "code",
   "execution_count": 352,
   "id": "6b46a7d0",
   "metadata": {},
   "outputs": [
    {
     "name": "stdout",
     "output_type": "stream",
     "text": [
      "AUC for random forest after hyperparameter tunning is  0.8299630500503863\n"
     ]
    }
   ],
   "source": [
    "y_p_proba = md_rf.predict_proba(x_test)[::,1]\n",
    "fpr, tpr, _ = metrics.roc_curve(y_test,  y_p_proba)\n",
    "auc = metrics.roc_auc_score(y_test, y_p_proba)\n",
    "print('AUC for random forest after hyperparameter tunning is ', auc)"
   ]
  },
  {
   "cell_type": "markdown",
   "id": "ad8284c9",
   "metadata": {},
   "source": [
    "### Making the imbalanced data to balanced data by using SMOTEENN"
   ]
  },
  {
   "cell_type": "code",
   "execution_count": 353,
   "id": "7a989267",
   "metadata": {},
   "outputs": [],
   "source": [
    "from imblearn.combine import SMOTEENN"
   ]
  },
  {
   "cell_type": "code",
   "execution_count": 354,
   "id": "26a2ea3e",
   "metadata": {},
   "outputs": [],
   "source": [
    "sm = SMOTEENN()"
   ]
  },
  {
   "cell_type": "code",
   "execution_count": 355,
   "id": "aa1d2eb1",
   "metadata": {},
   "outputs": [],
   "source": [
    "x_resampled, y_resampled =sm.fit_resample(x,y)"
   ]
  },
  {
   "cell_type": "code",
   "execution_count": 356,
   "id": "1b4f4749",
   "metadata": {},
   "outputs": [],
   "source": [
    "x_retrain, x_retest, y_retrain, y_retest = train_test_split(x_resampled, y_resampled)"
   ]
  },
  {
   "cell_type": "code",
   "execution_count": 357,
   "id": "077c06c9",
   "metadata": {},
   "outputs": [],
   "source": [
    "remodel_rf = RandomForestClassifier(random_state = 42)"
   ]
  },
  {
   "cell_type": "code",
   "execution_count": 358,
   "id": "16122cbf",
   "metadata": {},
   "outputs": [
    {
     "data": {
      "text/plain": [
       "RandomForestClassifier(random_state=42)"
      ]
     },
     "execution_count": 358,
     "metadata": {},
     "output_type": "execute_result"
    }
   ],
   "source": [
    "remodel_rf.fit(x_retrain, y_retrain)"
   ]
  },
  {
   "cell_type": "code",
   "execution_count": 359,
   "id": "55b36154",
   "metadata": {},
   "outputs": [],
   "source": [
    "y_repred = remodel_rf.predict(x_retest)"
   ]
  },
  {
   "cell_type": "code",
   "execution_count": 360,
   "id": "a26ee14c",
   "metadata": {
    "scrolled": true
   },
   "outputs": [
    {
     "name": "stdout",
     "output_type": "stream",
     "text": [
      "[[671  37]\n",
      " [ 10 806]]\n"
     ]
    }
   ],
   "source": [
    "print(confusion_matrix(y_retest,y_repred))"
   ]
  },
  {
   "cell_type": "code",
   "execution_count": 361,
   "id": "ac6a8fb9",
   "metadata": {},
   "outputs": [
    {
     "name": "stdout",
     "output_type": "stream",
     "text": [
      "              precision    recall  f1-score   support\n",
      "\n",
      "           0       0.99      0.95      0.97       708\n",
      "           1       0.96      0.99      0.97       816\n",
      "\n",
      "    accuracy                           0.97      1524\n",
      "   macro avg       0.97      0.97      0.97      1524\n",
      "weighted avg       0.97      0.97      0.97      1524\n",
      "\n"
     ]
    }
   ],
   "source": [
    "print(classification_report(y_retest,y_repred))"
   ]
  },
  {
   "cell_type": "code",
   "execution_count": 362,
   "id": "08376b1a",
   "metadata": {},
   "outputs": [
    {
     "data": {
      "text/plain": [
       "RandomForestClassifier(max_depth=80, min_samples_leaf=5, min_samples_split=12,\n",
       "                       n_estimators=200, random_state=42)"
      ]
     },
     "execution_count": 362,
     "metadata": {},
     "output_type": "execute_result"
    }
   ],
   "source": [
    "md_rf.fit(x_retrain,y_retrain)"
   ]
  },
  {
   "cell_type": "code",
   "execution_count": 363,
   "id": "8a68970d",
   "metadata": {},
   "outputs": [],
   "source": [
    "y_repred1 = md_rf.predict(x_retest)"
   ]
  },
  {
   "cell_type": "code",
   "execution_count": 364,
   "id": "59c06ee5",
   "metadata": {},
   "outputs": [
    {
     "name": "stdout",
     "output_type": "stream",
     "text": [
      "              precision    recall  f1-score   support\n",
      "\n",
      "           0       0.95      0.92      0.93       708\n",
      "           1       0.93      0.96      0.95       816\n",
      "\n",
      "    accuracy                           0.94      1524\n",
      "   macro avg       0.94      0.94      0.94      1524\n",
      "weighted avg       0.94      0.94      0.94      1524\n",
      "\n"
     ]
    }
   ],
   "source": [
    "print(classification_report(y_retest,y_repred1))"
   ]
  },
  {
   "cell_type": "code",
   "execution_count": 365,
   "id": "64d54e7f",
   "metadata": {},
   "outputs": [
    {
     "name": "stdout",
     "output_type": "stream",
     "text": [
      "[[650  58]\n",
      " [ 33 783]]\n",
      "[CV 2/3] END bootstrap=True, max_depth=80, max_features=auto, min_samples_leaf=5, min_samples_split=5, n_estimators=70;, score=(train=-0.138, test=-0.207) total time=   0.3s\n",
      "[CV 3/3] END bootstrap=False, max_depth=5, max_features=sqrt, min_samples_leaf=2, min_samples_split=12, n_estimators=50;, score=(train=-0.191, test=-0.188) total time=   0.1s\n",
      "[CV 1/3] END bootstrap=True, max_depth=7, max_features=auto, min_samples_leaf=3, min_samples_split=10, n_estimators=50;, score=(train=-0.175, test=-0.196) total time=   0.2s\n",
      "[CV 3/3] END bootstrap=False, max_depth=5, max_features=auto, min_samples_leaf=2, min_samples_split=2, n_estimators=60;, score=(train=-0.193, test=-0.187) total time=   0.2s\n",
      "[CV 3/3] END bootstrap=True, max_depth=90, max_features=sqrt, min_samples_leaf=4, min_samples_split=12, n_estimators=60;, score=(train=-0.140, test=-0.197) total time=   0.3s\n",
      "[CV 2/3] END bootstrap=False, max_depth=5, max_features=sqrt, min_samples_leaf=2, min_samples_split=12, n_estimators=40;, score=(train=-0.184, test=-0.212) total time=   0.2s\n",
      "[CV 3/3] END bootstrap=False, max_depth=None, max_features=sqrt, min_samples_leaf=4, min_samples_split=12, n_estimators=30;, score=(train=-0.106, test=-0.192) total time=   0.1s\n",
      "[CV 1/3] END bootstrap=True, max_depth=80, max_features=sqrt, min_samples_leaf=2, min_samples_split=2, n_estimators=40;, score=(train=-0.074, test=-0.202) total time=   0.2s\n",
      "[CV 3/3] END bootstrap=True, max_depth=80, max_features=sqrt, min_samples_leaf=2, min_samples_split=2, n_estimators=40;, score=(train=-0.081, test=-0.200) total time=   0.2s\n",
      "[CV 2/3] END bootstrap=False, max_depth=8, max_features=sqrt, min_samples_leaf=5, min_samples_split=2, n_estimators=80;, score=(train=-0.157, test=-0.210) total time=   0.4s\n",
      "[CV 1/3] END bootstrap=True, max_depth=100, max_features=auto, min_samples_leaf=4, min_samples_split=5, n_estimators=50;, score=(train=-0.132, test=-0.195) total time=   0.2s\n",
      "[CV 2/3] END bootstrap=True, max_depth=100, max_features=auto, min_samples_leaf=4, min_samples_split=8, n_estimators=30;, score=(train=-0.127, test=-0.209) total time=   0.1s\n",
      "[CV 1/3] END bootstrap=True, max_depth=6, max_features=sqrt, min_samples_leaf=2, min_samples_split=5, n_estimators=30;, score=(train=-0.182, test=-0.199) total time=   0.1s\n",
      "[CV 3/3] END bootstrap=False, max_depth=100, max_features=sqrt, min_samples_leaf=1, min_samples_split=2, n_estimators=200;, score=(train=-0.002, test=-0.219) total time=   1.8s\n",
      "[CV 1/3] END bootstrap=True, max_depth=7, max_features=auto, min_samples_leaf=1, min_samples_split=5, n_estimators=90;, score=(train=-0.170, test=-0.195) total time=   0.3s\n",
      "[CV 3/3] END bootstrap=True, max_depth=90, max_features=auto, min_samples_leaf=5, min_samples_split=5, n_estimators=80;, score=(train=-0.141, test=-0.191) total time=   0.3s\n",
      "[CV 2/3] END bootstrap=False, max_depth=7, max_features=auto, min_samples_leaf=4, min_samples_split=5, n_estimators=70;, score=(train=-0.164, test=-0.204) total time=   0.3s\n",
      "[CV 1/3] END bootstrap=False, max_depth=80, max_features=sqrt, min_samples_leaf=3, min_samples_split=12, n_estimators=100;, score=(train=-0.093, test=-0.198) total time=   0.5s\n",
      "[CV 3/3] END bootstrap=True, max_depth=90, max_features=sqrt, min_samples_leaf=4, min_samples_split=10, n_estimators=30;, score=(train=-0.137, test=-0.197) total time=   0.1s\n",
      "[CV 2/3] END bootstrap=False, max_depth=5, max_features=sqrt, min_samples_leaf=2, min_samples_split=8, n_estimators=30;, score=(train=-0.186, test=-0.218) total time=   0.1s\n",
      "[CV 3/3] END bootstrap=False, max_depth=90, max_features=sqrt, min_samples_leaf=5, min_samples_split=12, n_estimators=200;, score=(train=-0.113, test=-0.197) total time=   1.1s\n",
      "[CV 1/3] END bootstrap=True, max_depth=80, max_features=sqrt, min_samples_leaf=5, min_samples_split=5, n_estimators=70;, score=(train=-0.146, test=-0.196) total time=   0.5s\n",
      "[CV 3/3] END bootstrap=True, max_depth=90, max_features=sqrt, min_samples_leaf=3, min_samples_split=8, n_estimators=40;, score=(train=-0.125, test=-0.188) total time=   0.2s\n",
      "[CV 1/3] END bootstrap=False, max_depth=7, max_features=sqrt, min_samples_leaf=4, min_samples_split=12, n_estimators=90;, score=(train=-0.170, test=-0.194) total time=   0.5s\n",
      "[CV 2/3] END bootstrap=True, max_depth=5, max_features=sqrt, min_samples_leaf=1, min_samples_split=5, n_estimators=50;, score=(train=-0.187, test=-0.209) total time=   0.1s\n",
      "[CV 3/3] END bootstrap=False, max_depth=5, max_features=auto, min_samples_leaf=2, min_samples_split=8, n_estimators=60;, score=(train=-0.194, test=-0.188) total time=   0.3s\n",
      "[CV 2/3] END bootstrap=True, max_depth=8, max_features=sqrt, min_samples_leaf=2, min_samples_split=5, n_estimators=30;, score=(train=-0.152, test=-0.211) total time=   0.1s\n",
      "[CV 1/3] END bootstrap=False, max_depth=8, max_features=sqrt, min_samples_leaf=2, min_samples_split=10, n_estimators=90;, score=(train=-0.155, test=-0.202) total time=   0.5s\n",
      "[CV 3/3] END bootstrap=True, max_depth=80, max_features=auto, min_samples_leaf=3, min_samples_split=12, n_estimators=200;, score=(train=-0.130, test=-0.193) total time=   1.2s\n",
      "[CV 2/3] END bootstrap=True, max_depth=6, max_features=auto, min_samples_leaf=4, min_samples_split=8, n_estimators=40;, score=(train=-0.174, test=-0.204) total time=   0.2s\n",
      "[CV 2/3] END bootstrap=True, max_depth=7, max_features=auto, min_samples_leaf=1, min_samples_split=2, n_estimators=40;, score=(train=-0.166, test=-0.212) total time=   0.2s\n",
      "[CV 1/3] END bootstrap=False, max_depth=7, max_features=auto, min_samples_leaf=3, min_samples_split=10, n_estimators=200;, score=(train=-0.168, test=-0.196) total time=   0.9s\n",
      "[CV 1/3] END bootstrap=True, max_depth=6, max_features=auto, min_samples_leaf=1, min_samples_split=5, n_estimators=100;, score=(train=-0.180, test=-0.199) total time=   0.4s\n",
      "[CV 1/3] END bootstrap=True, max_depth=6, max_features=auto, min_samples_leaf=4, min_samples_split=12, n_estimators=80;, score=(train=-0.179, test=-0.197) total time=   0.2s\n",
      "[CV 3/3] END bootstrap=False, max_depth=80, max_features=sqrt, min_samples_leaf=2, min_samples_split=5, n_estimators=90;, score=(train=-0.026, test=-0.203) total time=   0.5s\n",
      "[CV 3/3] END bootstrap=True, max_depth=90, max_features=auto, min_samples_leaf=2, min_samples_split=8, n_estimators=40;, score=(train=-0.115, test=-0.199) total time=   0.2s\n",
      "[CV 2/3] END bootstrap=True, max_depth=100, max_features=auto, min_samples_leaf=1, min_samples_split=10, n_estimators=90;, score=(train=-0.101, test=-0.208) total time=   0.3s\n",
      "[CV 3/3] END bootstrap=True, max_depth=7, max_features=auto, min_samples_leaf=3, min_samples_split=10, n_estimators=50;, score=(train=-0.170, test=-0.189) total time=   0.2s\n",
      "[CV 2/3] END bootstrap=True, max_depth=8, max_features=auto, min_samples_leaf=1, min_samples_split=8, n_estimators=70;, score=(train=-0.154, test=-0.209) total time=   0.2s\n",
      "[CV 3/3] END bootstrap=True, max_depth=90, max_features=sqrt, min_samples_leaf=5, min_samples_split=8, n_estimators=90;, score=(train=-0.142, test=-0.192) total time=   0.4s\n",
      "[CV 2/3] END bootstrap=False, max_depth=6, max_features=sqrt, min_samples_leaf=5, min_samples_split=12, n_estimators=90;, score=(train=-0.175, test=-0.206) total time=   0.3s\n",
      "[CV 3/3] END bootstrap=True, max_depth=None, max_features=sqrt, min_samples_leaf=4, min_samples_split=8, n_estimators=40;, score=(train=-0.134, test=-0.194) total time=   0.2s\n",
      "[CV 2/3] END bootstrap=False, max_depth=None, max_features=auto, min_samples_leaf=2, min_samples_split=12, n_estimators=80;, score=(train=-0.083, test=-0.206) total time=   0.5s\n",
      "[CV 3/3] END bootstrap=False, max_depth=None, max_features=sqrt, min_samples_leaf=4, min_samples_split=12, n_estimators=20;, score=(train=-0.108, test=-0.197) total time=   0.1s\n",
      "[CV 1/3] END bootstrap=True, max_depth=100, max_features=auto, min_samples_leaf=2, min_samples_split=10, n_estimators=100;, score=(train=-0.113, test=-0.197) total time=   0.5s\n",
      "[CV 1/3] END bootstrap=True, max_depth=8, max_features=auto, min_samples_leaf=3, min_samples_split=5, n_estimators=100;, score=(train=-0.161, test=-0.196) total time=   0.7s\n",
      "[CV 3/3] END bootstrap=False, max_depth=90, max_features=sqrt, min_samples_leaf=2, min_samples_split=10, n_estimators=80;, score=(train=-0.071, test=-0.201) total time=   0.5s\n",
      "[CV 2/3] END bootstrap=False, max_depth=6, max_features=sqrt, min_samples_leaf=1, min_samples_split=12, n_estimators=60;, score=(train=-0.173, test=-0.205) total time=   0.2s\n",
      "[CV 1/3] END bootstrap=True, max_depth=90, max_features=sqrt, min_samples_leaf=2, min_samples_split=5, n_estimators=70;, score=(train=-0.081, test=-0.199) total time=   0.3s\n",
      "[CV 2/3] END bootstrap=False, max_depth=7, max_features=sqrt, min_samples_leaf=3, min_samples_split=5, n_estimators=50;, score=(train=-0.162, test=-0.205) total time=   0.2s\n",
      "[CV 3/3] END bootstrap=True, max_depth=100, max_features=sqrt, min_samples_leaf=3, min_samples_split=5, n_estimators=40;, score=(train=-0.116, test=-0.198) total time=   0.2s\n",
      "[CV 3/3] END bootstrap=False, max_depth=7, max_features=auto, min_samples_leaf=4, min_samples_split=5, n_estimators=70;, score=(train=-0.170, test=-0.185) total time=   0.2s\n",
      "[CV 3/3] END bootstrap=False, max_depth=80, max_features=sqrt, min_samples_leaf=3, min_samples_split=12, n_estimators=100;, score=(train=-0.097, test=-0.193) total time=   0.5s\n",
      "[CV 2/3] END bootstrap=False, max_depth=5, max_features=auto, min_samples_leaf=1, min_samples_split=5, n_estimators=200;, score=(train=-0.179, test=-0.210) total time=   0.7s\n",
      "[CV 2/3] END bootstrap=True, max_depth=80, max_features=sqrt, min_samples_leaf=1, min_samples_split=2, n_estimators=40;, score=(train=-0.004, test=-0.225) total time=   0.2s\n",
      "[CV 1/3] END bootstrap=False, max_depth=100, max_features=auto, min_samples_leaf=5, min_samples_split=12, n_estimators=60;, score=(train=-0.115, test=-0.194) total time=   0.3s\n",
      "[CV 2/3] END bootstrap=False, max_depth=8, max_features=auto, min_samples_leaf=2, min_samples_split=12, n_estimators=30;, score=(train=-0.154, test=-0.213) total time=   0.2s\n",
      "[CV 3/3] END bootstrap=True, max_depth=80, max_features=sqrt, min_samples_leaf=5, min_samples_split=5, n_estimators=70;, score=(train=-0.140, test=-0.192) total time=   0.4s\n",
      "[CV 2/3] END bootstrap=False, max_depth=100, max_features=auto, min_samples_leaf=1, min_samples_split=12, n_estimators=40;, score=(train=-0.070, test=-0.208) total time=   0.2s\n",
      "[CV 1/3] END bootstrap=True, max_depth=None, max_features=sqrt, min_samples_leaf=4, min_samples_split=5, n_estimators=70;, score=(train=-0.129, test=-0.195) total time=   0.4s\n",
      "[CV 1/3] END bootstrap=True, max_depth=None, max_features=sqrt, min_samples_leaf=2, min_samples_split=2, n_estimators=80;, score=(train=-0.070, test=-0.199) total time=   0.4s\n",
      "[CV 3/3] END bootstrap=True, max_depth=8, max_features=sqrt, min_samples_leaf=2, min_samples_split=5, n_estimators=30;, score=(train=-0.162, test=-0.199) total time=   0.1s\n",
      "[CV 2/3] END bootstrap=False, max_depth=8, max_features=sqrt, min_samples_leaf=2, min_samples_split=10, n_estimators=90;, score=(train=-0.148, test=-0.205) total time=   0.6s\n",
      "[CV 1/3] END bootstrap=True, max_depth=None, max_features=sqrt, min_samples_leaf=4, min_samples_split=10, n_estimators=200;, score=(train=-0.133, test=-0.195) total time=   1.1s\n",
      "[CV 3/3] END bootstrap=True, max_depth=100, max_features=sqrt, min_samples_leaf=1, min_samples_split=12, n_estimators=20;, score=(train=-0.123, test=-0.199) total time=   0.1s\n",
      "[CV 1/3] END bootstrap=True, max_depth=90, max_features=sqrt, min_samples_leaf=2, min_samples_split=12, n_estimators=20;, score=(train=-0.133, test=-0.194) total time=   0.1s\n",
      "[CV 1/3] END bootstrap=True, max_depth=7, max_features=auto, min_samples_leaf=1, min_samples_split=2, n_estimators=40;, score=(train=-0.172, test=-0.196) total time=   0.2s\n",
      "[CV 2/3] END bootstrap=False, max_depth=7, max_features=auto, min_samples_leaf=3, min_samples_split=10, n_estimators=200;, score=(train=-0.162, test=-0.205) total time=   0.8s\n",
      "[CV 2/3] END bootstrap=False, max_depth=5, max_features=sqrt, min_samples_leaf=4, min_samples_split=5, n_estimators=60;, score=(train=-0.183, test=-0.209) total time=   0.2s\n",
      "[CV 2/3] END bootstrap=True, max_depth=7, max_features=sqrt, min_samples_leaf=2, min_samples_split=12, n_estimators=70;, score=(train=-0.166, test=-0.208) total time=   0.3s\n",
      "[CV 1/3] END bootstrap=True, max_depth=7, max_features=auto, min_samples_leaf=1, min_samples_split=2, n_estimators=200;, score=(train=-0.169, test=-0.198) total time=   0.7s\n"
     ]
    },
    {
     "name": "stdout",
     "output_type": "stream",
     "text": [
      "[CV 3/3] END bootstrap=True, max_depth=80, max_features=auto, min_samples_leaf=5, min_samples_split=5, n_estimators=70;, score=(train=-0.140, test=-0.192) total time=   0.3s\n",
      "[CV 1/3] END bootstrap=True, max_depth=90, max_features=auto, min_samples_leaf=4, min_samples_split=8, n_estimators=20;, score=(train=-0.139, test=-0.193) total time=   0.1s\n",
      "[CV 1/3] END bootstrap=True, max_depth=8, max_features=sqrt, min_samples_leaf=1, min_samples_split=5, n_estimators=70;, score=(train=-0.159, test=-0.199) total time=   0.2s\n",
      "[CV 1/3] END bootstrap=True, max_depth=None, max_features=sqrt, min_samples_leaf=1, min_samples_split=5, n_estimators=30;, score=(train=-0.055, test=-0.204) total time=   0.1s\n",
      "[CV 1/3] END bootstrap=True, max_depth=90, max_features=sqrt, min_samples_leaf=5, min_samples_split=8, n_estimators=90;, score=(train=-0.146, test=-0.197) total time=   0.4s\n",
      "[CV 3/3] END bootstrap=False, max_depth=5, max_features=sqrt, min_samples_leaf=4, min_samples_split=10, n_estimators=60;, score=(train=-0.192, test=-0.187) total time=   0.2s\n",
      "[CV 2/3] END bootstrap=True, max_depth=80, max_features=sqrt, min_samples_leaf=2, min_samples_split=2, n_estimators=40;, score=(train=-0.075, test=-0.206) total time=   0.2s\n",
      "[CV 2/3] END bootstrap=True, max_depth=None, max_features=sqrt, min_samples_leaf=4, min_samples_split=8, n_estimators=40;, score=(train=-0.130, test=-0.206) total time=   0.2s\n",
      "[CV 3/3] END bootstrap=False, max_depth=80, max_features=auto, min_samples_leaf=3, min_samples_split=8, n_estimators=30;, score=(train=-0.078, test=-0.201) total time=   0.2s\n",
      "[CV 1/3] END bootstrap=True, max_depth=6, max_features=sqrt, min_samples_leaf=1, min_samples_split=12, n_estimators=60;, score=(train=-0.178, test=-0.193) total time=   0.2s\n",
      "[CV 3/3] END bootstrap=True, max_depth=100, max_features=auto, min_samples_leaf=4, min_samples_split=5, n_estimators=50;, score=(train=-0.133, test=-0.197) total time=   0.2s\n",
      "[CV 3/3] END bootstrap=True, max_depth=100, max_features=auto, min_samples_leaf=2, min_samples_split=10, n_estimators=100;, score=(train=-0.117, test=-0.195) total time=   0.4s\n",
      "[CV 1/3] END bootstrap=False, max_depth=90, max_features=sqrt, min_samples_leaf=2, min_samples_split=10, n_estimators=80;, score=(train=-0.067, test=-0.200) total time=   0.9s\n",
      "[CV 3/3] END bootstrap=True, max_depth=7, max_features=auto, min_samples_leaf=1, min_samples_split=12, n_estimators=40;, score=(train=-0.169, test=-0.191) total time=   0.1s\n",
      "[CV 1/3] END bootstrap=False, max_depth=6, max_features=sqrt, min_samples_leaf=1, min_samples_split=12, n_estimators=60;, score=(train=-0.177, test=-0.197) total time=   0.2s\n",
      "[CV 3/3] END bootstrap=False, max_depth=6, max_features=sqrt, min_samples_leaf=1, min_samples_split=12, n_estimators=60;, score=(train=-0.179, test=-0.188) total time=   0.2s\n",
      "[CV 2/3] END bootstrap=True, max_depth=90, max_features=sqrt, min_samples_leaf=2, min_samples_split=5, n_estimators=70;, score=(train=-0.082, test=-0.204) total time=   0.3s\n",
      "[CV 1/3] END bootstrap=True, max_depth=90, max_features=sqrt, min_samples_leaf=4, min_samples_split=10, n_estimators=200;, score=(train=-0.133, test=-0.195) total time=   0.8s\n",
      "[CV 1/3] END bootstrap=False, max_depth=80, max_features=auto, min_samples_leaf=5, min_samples_split=10, n_estimators=100;, score=(train=-0.111, test=-0.204) total time=   0.4s\n",
      "[CV 3/3] END bootstrap=False, max_depth=5, max_features=sqrt, min_samples_leaf=2, min_samples_split=8, n_estimators=30;, score=(train=-0.195, test=-0.191) total time=   0.1s\n",
      "[CV 1/3] END bootstrap=True, max_depth=7, max_features=sqrt, min_samples_leaf=2, min_samples_split=10, n_estimators=40;, score=(train=-0.172, test=-0.194) total time=   0.1s\n",
      "[CV 3/3] END bootstrap=True, max_depth=7, max_features=sqrt, min_samples_leaf=2, min_samples_split=10, n_estimators=40;, score=(train=-0.168, test=-0.187) total time=   0.2s\n",
      "[CV 2/3] END bootstrap=False, max_depth=None, max_features=auto, min_samples_leaf=5, min_samples_split=8, n_estimators=30;, score=(train=-0.107, test=-0.207) total time=   0.2s\n",
      "[CV 1/3] END bootstrap=False, max_depth=90, max_features=auto, min_samples_leaf=4, min_samples_split=2, n_estimators=60;, score=(train=-0.088, test=-0.199) total time=   0.4s\n",
      "[CV 3/3] END bootstrap=False, max_depth=100, max_features=auto, min_samples_leaf=5, min_samples_split=12, n_estimators=60;, score=(train=-0.115, test=-0.201) total time=   0.4s\n",
      "[CV 1/3] END bootstrap=True, max_depth=5, max_features=sqrt, min_samples_leaf=5, min_samples_split=5, n_estimators=70;, score=(train=-0.191, test=-0.205) total time=   0.3s\n",
      "[CV 1/3] END bootstrap=False, max_depth=100, max_features=auto, min_samples_leaf=1, min_samples_split=12, n_estimators=40;, score=(train=-0.071, test=-0.197) total time=   0.2s\n",
      "[CV 2/3] END bootstrap=True, max_depth=8, max_features=auto, min_samples_leaf=1, min_samples_split=2, n_estimators=40;, score=(train=-0.146, test=-0.205) total time=   0.2s\n",
      "[CV 1/3] END bootstrap=True, max_depth=100, max_features=sqrt, min_samples_leaf=1, min_samples_split=5, n_estimators=40;, score=(train=-0.052, test=-0.202) total time=   0.2s\n",
      "[CV 3/3] END bootstrap=True, max_depth=5, max_features=sqrt, min_samples_leaf=1, min_samples_split=5, n_estimators=50;, score=(train=-0.193, test=-0.188) total time=   0.1s\n",
      "[CV 2/3] END bootstrap=False, max_depth=None, max_features=sqrt, min_samples_leaf=2, min_samples_split=8, n_estimators=200;, score=(train=-0.053, test=-0.206) total time=   1.4s\n",
      "[CV 3/3] END bootstrap=True, max_depth=None, max_features=sqrt, min_samples_leaf=4, min_samples_split=10, n_estimators=200;, score=(train=-0.133, test=-0.197) total time=   1.1s\n",
      "[CV 3/3] END bootstrap=True, max_depth=90, max_features=sqrt, min_samples_leaf=2, min_samples_split=12, n_estimators=20;, score=(train=-0.130, test=-0.198) total time=   0.1s\n",
      "[CV 2/3] END bootstrap=False, max_depth=90, max_features=sqrt, min_samples_leaf=1, min_samples_split=2, n_estimators=70;, score=(train=-0.002, test=-0.222) total time=   0.5s\n",
      "[CV 2/3] END bootstrap=True, max_depth=80, max_features=auto, min_samples_leaf=4, min_samples_split=10, n_estimators=50;, score=(train=-0.125, test=-0.203) total time=   0.2s\n",
      "[CV 3/3] END bootstrap=True, max_depth=5, max_features=sqrt, min_samples_leaf=5, min_samples_split=8, n_estimators=50;, score=(train=-0.187, test=-0.191) total time=   0.1s\n",
      "[CV 3/3] END bootstrap=False, max_depth=5, max_features=sqrt, min_samples_leaf=4, min_samples_split=5, n_estimators=60;, score=(train=-0.195, test=-0.188) total time=   0.2s\n",
      "[CV 1/3] END bootstrap=True, max_depth=7, max_features=sqrt, min_samples_leaf=2, min_samples_split=12, n_estimators=70;, score=(train=-0.175, test=-0.196) total time=   0.3s\n",
      "[CV 3/3] END bootstrap=True, max_depth=6, max_features=auto, min_samples_leaf=4, min_samples_split=12, n_estimators=80;, score=(train=-0.183, test=-0.192) total time=   0.2s\n",
      "[CV 2/3] END bootstrap=False, max_depth=90, max_features=auto, min_samples_leaf=2, min_samples_split=12, n_estimators=70;, score=(train=-0.081, test=-0.206) total time=   0.3s\n",
      "[CV 1/3] END bootstrap=True, max_depth=90, max_features=sqrt, min_samples_leaf=1, min_samples_split=10, n_estimators=20;, score=(train=-0.107, test=-0.198) total time=   0.1s\n",
      "[CV 1/3] END bootstrap=True, max_depth=8, max_features=auto, min_samples_leaf=4, min_samples_split=5, n_estimators=40;, score=(train=-0.167, test=-0.195) total time=   0.2s\n",
      "[CV 1/3] END bootstrap=True, max_depth=100, max_features=auto, min_samples_leaf=1, min_samples_split=10, n_estimators=90;, score=(train=-0.106, test=-0.200) total time=   0.4s\n",
      "[CV 2/3] END bootstrap=False, max_depth=5, max_features=auto, min_samples_leaf=2, min_samples_split=2, n_estimators=60;, score=(train=-0.182, test=-0.206) total time=   0.2s\n",
      "[CV 2/3] END bootstrap=True, max_depth=90, max_features=sqrt, min_samples_leaf=4, min_samples_split=12, n_estimators=60;, score=(train=-0.136, test=-0.205) total time=   0.2s\n",
      "[CV 1/3] END bootstrap=False, max_depth=5, max_features=sqrt, min_samples_leaf=2, min_samples_split=12, n_estimators=40;, score=(train=-0.194, test=-0.204) total time=   0.1s\n",
      "[CV 1/3] END bootstrap=False, max_depth=None, max_features=sqrt, min_samples_leaf=4, min_samples_split=12, n_estimators=30;, score=(train=-0.107, test=-0.204) total time=   0.2s\n",
      "[CV 1/3] END bootstrap=True, max_depth=90, max_features=auto, min_samples_leaf=5, min_samples_split=12, n_estimators=100;, score=(train=-0.146, test=-0.194) total time=   0.4s\n",
      "[CV 3/3] END bootstrap=False, max_depth=8, max_features=sqrt, min_samples_leaf=5, min_samples_split=2, n_estimators=80;, score=(train=-0.164, test=-0.188) total time=   0.4s\n",
      "[CV 2/3] END bootstrap=True, max_depth=100, max_features=auto, min_samples_leaf=4, min_samples_split=5, n_estimators=50;, score=(train=-0.128, test=-0.209) total time=   0.2s\n",
      "[CV 2/3] END bootstrap=True, max_depth=6, max_features=sqrt, min_samples_leaf=1, min_samples_split=5, n_estimators=50;, score=(train=-0.175, test=-0.206) total time=   0.1s\n",
      "[CV 3/3] END bootstrap=True, max_depth=6, max_features=sqrt, min_samples_leaf=2, min_samples_split=5, n_estimators=30;, score=(train=-0.180, test=-0.189) total time=   0.1s\n",
      "[CV 2/3] END bootstrap=False, max_depth=90, max_features=sqrt, min_samples_leaf=4, min_samples_split=8, n_estimators=30;, score=(train=-0.092, test=-0.205) total time=   0.2s\n",
      "[CV 3/3] END bootstrap=True, max_depth=8, max_features=auto, min_samples_leaf=3, min_samples_split=5, n_estimators=100;, score=(train=-0.164, test=-0.192) total time=   0.7s\n",
      "[CV 2/3] END bootstrap=True, max_depth=7, max_features=auto, min_samples_leaf=1, min_samples_split=12, n_estimators=40;, score=(train=-0.170, test=-0.199) total time=   0.2s\n",
      "[CV 3/3] END bootstrap=False, max_depth=7, max_features=sqrt, min_samples_leaf=2, min_samples_split=5, n_estimators=100;, score=(train=-0.168, test=-0.189) total time=   0.4s\n",
      "[CV 2/3] END bootstrap=True, max_depth=7, max_features=auto, min_samples_leaf=1, min_samples_split=5, n_estimators=90;, score=(train=-0.164, test=-0.205) total time=   0.3s\n",
      "[CV 3/3] END bootstrap=False, max_depth=7, max_features=sqrt, min_samples_leaf=3, min_samples_split=5, n_estimators=50;, score=(train=-0.172, test=-0.187) total time=   0.2s\n",
      "[CV 3/3] END bootstrap=True, max_depth=90, max_features=sqrt, min_samples_leaf=4, min_samples_split=10, n_estimators=200;, score=(train=-0.133, test=-0.197) total time=   0.8s\n",
      "[CV 1/3] END bootstrap=True, max_depth=90, max_features=sqrt, min_samples_leaf=4, min_samples_split=10, n_estimators=30;, score=(train=-0.136, test=-0.192) total time=   0.1s\n",
      "[CV 1/3] END bootstrap=False, max_depth=5, max_features=auto, min_samples_leaf=1, min_samples_split=5, n_estimators=200;, score=(train=-0.190, test=-0.202) total time=   0.7s\n",
      "[CV 3/3] END bootstrap=True, max_depth=80, max_features=sqrt, min_samples_leaf=1, min_samples_split=2, n_estimators=40;, score=(train=-0.003, test=-0.210) total time=   0.3s\n",
      "[CV 2/3] END bootstrap=False, max_depth=100, max_features=auto, min_samples_leaf=5, min_samples_split=12, n_estimators=60;, score=(train=-0.109, test=-0.206) total time=   0.3s\n",
      "[CV 3/3] END bootstrap=False, max_depth=8, max_features=auto, min_samples_leaf=2, min_samples_split=12, n_estimators=30;, score=(train=-0.157, test=-0.191) total time=   0.2s\n",
      "[CV 2/3] END bootstrap=True, max_depth=5, max_features=sqrt, min_samples_leaf=5, min_samples_split=5, n_estimators=70;, score=(train=-0.185, test=-0.208) total time=   0.3s\n",
      "[CV 3/3] END bootstrap=False, max_depth=6, max_features=sqrt, min_samples_leaf=5, min_samples_split=5, n_estimators=30;, score=(train=-0.183, test=-0.186) total time=   0.1s\n",
      "[CV 2/3] END bootstrap=False, max_depth=7, max_features=sqrt, min_samples_leaf=4, min_samples_split=12, n_estimators=90;, score=(train=-0.164, test=-0.206) total time=   0.4s\n",
      "[CV 3/3] END bootstrap=True, max_depth=100, max_features=sqrt, min_samples_leaf=1, min_samples_split=5, n_estimators=40;, score=(train=-0.058, test=-0.204) total time=   0.2s\n",
      "[CV 1/3] END bootstrap=False, max_depth=None, max_features=sqrt, min_samples_leaf=2, min_samples_split=8, n_estimators=200;, score=(train=-0.049, test=-0.202) total time=   1.5s\n",
      "[CV 1/3] END bootstrap=False, max_depth=80, max_features=sqrt, min_samples_leaf=2, min_samples_split=5, n_estimators=200;, score=(train=-0.026, test=-0.205) total time=   1.4s\n",
      "[CV 3/3] END bootstrap=False, max_depth=7, max_features=auto, min_samples_leaf=3, min_samples_split=10, n_estimators=200;, score=(train=-0.169, test=-0.187) total time=   0.8s\n",
      "[CV 2/3] END bootstrap=True, max_depth=6, max_features=auto, min_samples_leaf=1, min_samples_split=5, n_estimators=100;, score=(train=-0.176, test=-0.206) total time=   0.3s\n",
      "[CV 3/3] END bootstrap=True, max_depth=7, max_features=sqrt, min_samples_leaf=2, min_samples_split=12, n_estimators=70;, score=(train=-0.175, test=-0.185) total time=   0.3s\n",
      "[CV 2/3] END bootstrap=False, max_depth=80, max_features=sqrt, min_samples_leaf=2, min_samples_split=5, n_estimators=90;, score=(train=-0.029, test=-0.212) total time=   0.5s\n",
      "[CV 2/3] END bootstrap=True, max_depth=90, max_features=sqrt, min_samples_leaf=1, min_samples_split=10, n_estimators=20;, score=(train=-0.110, test=-0.205) total time=   0.1s\n"
     ]
    },
    {
     "name": "stdout",
     "output_type": "stream",
     "text": [
      "[CV 1/3] END bootstrap=True, max_depth=90, max_features=auto, min_samples_leaf=2, min_samples_split=8, n_estimators=40;, score=(train=-0.102, test=-0.191) total time=   0.2s\n",
      "[CV 1/3] END bootstrap=False, max_depth=5, max_features=sqrt, min_samples_leaf=2, min_samples_split=12, n_estimators=50;, score=(train=-0.191, test=-0.204) total time=   0.1s\n",
      "[CV 3/3] END bootstrap=True, max_depth=90, max_features=auto, min_samples_leaf=4, min_samples_split=8, n_estimators=20;, score=(train=-0.135, test=-0.206) total time=   0.1s\n",
      "[CV 2/3] END bootstrap=True, max_depth=7, max_features=auto, min_samples_leaf=3, min_samples_split=10, n_estimators=50;, score=(train=-0.167, test=-0.204) total time=   0.2s\n",
      "[CV 2/3] END bootstrap=True, max_depth=None, max_features=sqrt, min_samples_leaf=1, min_samples_split=5, n_estimators=30;, score=(train=-0.057, test=-0.216) total time=   0.1s\n",
      "[CV 1/3] END bootstrap=True, max_depth=90, max_features=sqrt, min_samples_leaf=4, min_samples_split=12, n_estimators=60;, score=(train=-0.137, test=-0.193) total time=   0.2s\n",
      "[CV 2/3] END bootstrap=False, max_depth=5, max_features=sqrt, min_samples_leaf=1, min_samples_split=12, n_estimators=30;, score=(train=-0.187, test=-0.215) total time=   0.1s\n",
      "[CV 1/3] END bootstrap=False, max_depth=5, max_features=sqrt, min_samples_leaf=4, min_samples_split=10, n_estimators=60;, score=(train=-0.189, test=-0.204) total time=   0.2s\n",
      "[CV 3/3] END bootstrap=False, max_depth=6, max_features=sqrt, min_samples_leaf=5, min_samples_split=12, n_estimators=90;, score=(train=-0.178, test=-0.185) total time=   0.3s\n",
      "[CV 1/3] END bootstrap=False, max_depth=8, max_features=sqrt, min_samples_leaf=5, min_samples_split=2, n_estimators=80;, score=(train=-0.161, test=-0.198) total time=   0.4s\n",
      "[CV 3/3] END bootstrap=True, max_depth=6, max_features=sqrt, min_samples_leaf=1, min_samples_split=12, n_estimators=60;, score=(train=-0.179, test=-0.185) total time=   0.2s\n",
      "[CV 1/3] END bootstrap=False, max_depth=None, max_features=sqrt, min_samples_leaf=4, min_samples_split=12, n_estimators=20;, score=(train=-0.109, test=-0.204) total time=   0.1s\n",
      "[CV 3/3] END bootstrap=True, max_depth=100, max_features=auto, min_samples_leaf=4, min_samples_split=8, n_estimators=30;, score=(train=-0.135, test=-0.200) total time=   0.1s\n",
      "[CV 2/3] END bootstrap=True, max_depth=6, max_features=sqrt, min_samples_leaf=2, min_samples_split=5, n_estimators=30;, score=(train=-0.178, test=-0.201) total time=   0.1s\n",
      "[CV 1/3] END bootstrap=False, max_depth=90, max_features=sqrt, min_samples_leaf=4, min_samples_split=8, n_estimators=30;, score=(train=-0.092, test=-0.203) total time=   0.2s\n",
      "[CV 3/3] END bootstrap=False, max_depth=90, max_features=sqrt, min_samples_leaf=4, min_samples_split=8, n_estimators=30;, score=(train=-0.097, test=-0.200) total time=   0.2s\n",
      "[CV 2/3] END bootstrap=False, max_depth=90, max_features=sqrt, min_samples_leaf=2, min_samples_split=10, n_estimators=80;, score=(train=-0.068, test=-0.203) total time=   0.7s\n",
      "[CV 2/3] END bootstrap=False, max_depth=7, max_features=sqrt, min_samples_leaf=2, min_samples_split=5, n_estimators=100;, score=(train=-0.162, test=-0.208) total time=   0.4s\n",
      "[CV 3/3] END bootstrap=True, max_depth=7, max_features=auto, min_samples_leaf=1, min_samples_split=5, n_estimators=90;, score=(train=-0.168, test=-0.190) total time=   0.3s\n",
      "[CV 1/3] END bootstrap=False, max_depth=7, max_features=sqrt, min_samples_leaf=3, min_samples_split=5, n_estimators=50;, score=(train=-0.168, test=-0.200) total time=   0.2s\n",
      "[CV 1/3] END bootstrap=True, max_depth=100, max_features=sqrt, min_samples_leaf=3, min_samples_split=5, n_estimators=40;, score=(train=-0.114, test=-0.202) total time=   0.2s\n",
      "[CV 1/3] END bootstrap=True, max_depth=7, max_features=auto, min_samples_leaf=2, min_samples_split=10, n_estimators=70;, score=(train=-0.173, test=-0.197) total time=   0.2s\n",
      "[CV 1/3] END bootstrap=False, max_depth=6, max_features=sqrt, min_samples_leaf=5, min_samples_split=8, n_estimators=30;, score=(train=-0.183, test=-0.196) total time=   0.1s\n",
      "[CV 2/3] END bootstrap=False, max_depth=6, max_features=sqrt, min_samples_leaf=5, min_samples_split=8, n_estimators=30;, score=(train=-0.176, test=-0.210) total time=   0.1s\n",
      "[CV 3/3] END bootstrap=False, max_depth=80, max_features=auto, min_samples_leaf=5, min_samples_split=10, n_estimators=100;, score=(train=-0.111, test=-0.195) total time=   0.5s\n",
      "[CV 2/3] END bootstrap=True, max_depth=7, max_features=sqrt, min_samples_leaf=2, min_samples_split=10, n_estimators=40;, score=(train=-0.165, test=-0.206) total time=   0.2s\n",
      "[CV 1/3] END bootstrap=False, max_depth=None, max_features=auto, min_samples_leaf=5, min_samples_split=8, n_estimators=30;, score=(train=-0.110, test=-0.203) total time=   0.2s\n",
      "[CV 3/3] END bootstrap=False, max_depth=None, max_features=auto, min_samples_leaf=5, min_samples_split=8, n_estimators=30;, score=(train=-0.112, test=-0.196) total time=   0.1s\n",
      "[CV 2/3] END bootstrap=False, max_depth=90, max_features=auto, min_samples_leaf=4, min_samples_split=2, n_estimators=60;, score=(train=-0.091, test=-0.206) total time=   0.3s\n",
      "[CV 1/3] END bootstrap=True, max_depth=6, max_features=sqrt, min_samples_leaf=3, min_samples_split=5, n_estimators=80;, score=(train=-0.180, test=-0.199) total time=   0.3s\n",
      "[CV 3/3] END bootstrap=True, max_depth=5, max_features=sqrt, min_samples_leaf=5, min_samples_split=5, n_estimators=70;, score=(train=-0.191, test=-0.189) total time=   0.3s\n",
      "[CV 1/3] END bootstrap=False, max_depth=6, max_features=sqrt, min_samples_leaf=5, min_samples_split=5, n_estimators=30;, score=(train=-0.183, test=-0.196) total time=   0.1s\n",
      "[CV 2/3] END bootstrap=False, max_depth=80, max_features=auto, min_samples_leaf=5, min_samples_split=12, n_estimators=20;, score=(train=-0.115, test=-0.211) total time=   0.1s\n",
      "[CV 3/3] END bootstrap=True, max_depth=8, max_features=auto, min_samples_leaf=1, min_samples_split=2, n_estimators=40;, score=(train=-0.152, test=-0.191) total time=   0.2s\n",
      "[CV 2/3] END bootstrap=True, max_depth=100, max_features=sqrt, min_samples_leaf=1, min_samples_split=5, n_estimators=40;, score=(train=-0.056, test=-0.214) total time=   0.2s\n",
      "[CV 2/3] END bootstrap=True, max_depth=None, max_features=sqrt, min_samples_leaf=2, min_samples_split=2, n_estimators=80;, score=(train=-0.071, test=-0.208) total time=   0.4s\n",
      "[CV 2/3] END bootstrap=True, max_depth=7, max_features=auto, min_samples_leaf=3, min_samples_split=12, n_estimators=60;, score=(train=-0.167, test=-0.203) total time=   0.2s\n",
      "[CV 1/3] END bootstrap=True, max_depth=80, max_features=auto, min_samples_leaf=3, min_samples_split=12, n_estimators=200;, score=(train=-0.134, test=-0.195) total time=   1.2s\n",
      "[CV 3/3] END bootstrap=False, max_depth=80, max_features=sqrt, min_samples_leaf=2, min_samples_split=5, n_estimators=200;, score=(train=-0.027, test=-0.204) total time=   1.5s\n",
      "[CV 3/3] END bootstrap=True, max_depth=80, max_features=auto, min_samples_leaf=4, min_samples_split=10, n_estimators=50;, score=(train=-0.135, test=-0.198) total time=   0.2s\n",
      "[CV 1/3] END bootstrap=False, max_depth=5, max_features=sqrt, min_samples_leaf=4, min_samples_split=5, n_estimators=60;, score=(train=-0.189, test=-0.204) total time=   0.2s\n",
      "[CV 2/3] END bootstrap=False, max_depth=90, max_features=sqrt, min_samples_leaf=5, min_samples_split=8, n_estimators=100;, score=(train=-0.107, test=-0.207) total time=   0.6s\n",
      "[CV 1/3] END bootstrap=False, max_depth=80, max_features=sqrt, min_samples_leaf=2, min_samples_split=5, n_estimators=90;, score=(train=-0.026, test=-0.206) total time=   0.5s\n",
      "[CV 3/3] END bootstrap=True, max_depth=90, max_features=sqrt, min_samples_leaf=1, min_samples_split=10, n_estimators=20;, score=(train=-0.110, test=-0.193) total time=   0.1s\n",
      "[CV 2/3] END bootstrap=True, max_depth=8, max_features=auto, min_samples_leaf=4, min_samples_split=5, n_estimators=40;, score=(train=-0.157, test=-0.204) total time=   0.1s\n",
      "[CV 3/3] END bootstrap=True, max_depth=100, max_features=auto, min_samples_leaf=1, min_samples_split=10, n_estimators=90;, score=(train=-0.108, test=-0.196) total time=   0.3s\n",
      "[CV 1/3] END bootstrap=False, max_depth=5, max_features=auto, min_samples_leaf=2, min_samples_split=2, n_estimators=60;, score=(train=-0.190, test=-0.208) total time=   0.2s\n",
      "[CV 3/3] END bootstrap=True, max_depth=8, max_features=auto, min_samples_leaf=1, min_samples_split=8, n_estimators=70;, score=(train=-0.162, test=-0.189) total time=   0.3s\n",
      "[CV 3/3] END bootstrap=False, max_depth=5, max_features=sqrt, min_samples_leaf=1, min_samples_split=12, n_estimators=30;, score=(train=-0.192, test=-0.189) total time=   0.1s\n",
      "[CV 2/3] END bootstrap=False, max_depth=5, max_features=sqrt, min_samples_leaf=4, min_samples_split=10, n_estimators=60;, score=(train=-0.182, test=-0.209) total time=   0.2s\n",
      "[CV 2/3] END bootstrap=True, max_depth=90, max_features=auto, min_samples_leaf=5, min_samples_split=12, n_estimators=100;, score=(train=-0.139, test=-0.210) total time=   0.4s\n",
      "[CV 1/3] END bootstrap=False, max_depth=None, max_features=auto, min_samples_leaf=2, min_samples_split=12, n_estimators=80;, score=(train=-0.081, test=-0.198) total time=   0.5s\n",
      "[CV 1/3] END bootstrap=True, max_depth=100, max_features=auto, min_samples_leaf=4, min_samples_split=8, n_estimators=30;, score=(train=-0.135, test=-0.193) total time=   0.1s\n",
      "[CV 3/3] END bootstrap=True, max_depth=6, max_features=sqrt, min_samples_leaf=1, min_samples_split=5, n_estimators=50;, score=(train=-0.177, test=-0.187) total time=   0.2s\n",
      "[CV 1/3] END bootstrap=False, max_depth=100, max_features=sqrt, min_samples_leaf=1, min_samples_split=2, n_estimators=200;, score=(train=-0.003, test=-0.218) total time=   1.7s\n",
      "[CV 2/3] END bootstrap=True, max_depth=5, max_features=sqrt, min_samples_leaf=5, min_samples_split=8, n_estimators=90;, score=(train=-0.183, test=-0.209) total time=   0.3s\n",
      "[CV 1/3] END bootstrap=True, max_depth=90, max_features=auto, min_samples_leaf=5, min_samples_split=5, n_estimators=80;, score=(train=-0.146, test=-0.199) total time=   0.3s\n",
      "[CV 2/3] END bootstrap=True, max_depth=100, max_features=sqrt, min_samples_leaf=3, min_samples_split=5, n_estimators=40;, score=(train=-0.106, test=-0.206) total time=   0.2s\n",
      "[CV 2/3] END bootstrap=True, max_depth=7, max_features=auto, min_samples_leaf=2, min_samples_split=10, n_estimators=70;, score=(train=-0.166, test=-0.205) total time=   0.2s\n",
      "[CV 2/3] END bootstrap=False, max_depth=80, max_features=sqrt, min_samples_leaf=3, min_samples_split=12, n_estimators=100;, score=(train=-0.091, test=-0.210) total time=   0.5s\n",
      "[CV 3/3] END bootstrap=False, max_depth=5, max_features=auto, min_samples_leaf=1, min_samples_split=5, n_estimators=200;, score=(train=-0.188, test=-0.192) total time=   0.6s\n",
      "[CV 1/3] END bootstrap=True, max_depth=80, max_features=sqrt, min_samples_leaf=1, min_samples_split=2, n_estimators=40;, score=(train=-0.003, test=-0.211) total time=   0.2s\n",
      "[CV 3/3] END bootstrap=False, max_depth=90, max_features=auto, min_samples_leaf=4, min_samples_split=2, n_estimators=60;, score=(train=-0.096, test=-0.197) total time=   0.4s\n",
      "[CV 1/3] END bootstrap=False, max_depth=8, max_features=auto, min_samples_leaf=2, min_samples_split=12, n_estimators=30;, score=(train=-0.156, test=-0.200) total time=   0.1s\n",
      "[CV 2/3] END bootstrap=True, max_depth=80, max_features=sqrt, min_samples_leaf=5, min_samples_split=5, n_estimators=70;, score=(train=-0.138, test=-0.207) total time=   0.5s\n",
      "[CV 1/3] END bootstrap=False, max_depth=80, max_features=auto, min_samples_leaf=5, min_samples_split=12, n_estimators=20;, score=(train=-0.116, test=-0.197) total time=   0.1s\n",
      "[CV 3/3] END bootstrap=False, max_depth=7, max_features=sqrt, min_samples_leaf=4, min_samples_split=12, n_estimators=90;, score=(train=-0.172, test=-0.186) total time=   0.4s\n",
      "[CV 1/3] END bootstrap=True, max_depth=5, max_features=sqrt, min_samples_leaf=1, min_samples_split=5, n_estimators=50;, score=(train=-0.191, test=-0.203) total time=   0.1s\n",
      "[CV 2/3] END bootstrap=False, max_depth=5, max_features=auto, min_samples_leaf=2, min_samples_split=8, n_estimators=60;, score=(train=-0.183, test=-0.208) total time=   0.2s\n",
      "[CV 1/3] END bootstrap=True, max_depth=8, max_features=sqrt, min_samples_leaf=2, min_samples_split=5, n_estimators=30;, score=(train=-0.159, test=-0.195) total time=   0.1s\n",
      "[CV 1/3] END bootstrap=True, max_depth=7, max_features=auto, min_samples_leaf=3, min_samples_split=12, n_estimators=60;, score=(train=-0.175, test=-0.193) total time=   0.2s\n",
      "[CV 3/3] END bootstrap=False, max_depth=8, max_features=sqrt, min_samples_leaf=2, min_samples_split=10, n_estimators=90;, score=(train=-0.157, test=-0.188) total time=   0.7s\n",
      "[CV 2/3] END bootstrap=True, max_depth=None, max_features=sqrt, min_samples_leaf=4, min_samples_split=10, n_estimators=200;, score=(train=-0.129, test=-0.203) total time=   1.1s\n",
      "[CV 3/3] END bootstrap=True, max_depth=6, max_features=auto, min_samples_leaf=4, min_samples_split=8, n_estimators=40;, score=(train=-0.179, test=-0.186) total time=   0.2s\n",
      "[CV 3/3] END bootstrap=True, max_depth=7, max_features=auto, min_samples_leaf=1, min_samples_split=2, n_estimators=40;, score=(train=-0.167, test=-0.189) total time=   0.1s\n",
      "[CV 3/3] END bootstrap=False, max_depth=90, max_features=sqrt, min_samples_leaf=1, min_samples_split=2, n_estimators=70;, score=(train=-0.002, test=-0.220) total time=   0.5s\n",
      "[CV 2/3] END bootstrap=True, max_depth=5, max_features=sqrt, min_samples_leaf=5, min_samples_split=8, n_estimators=50;, score=(train=-0.187, test=-0.210) total time=   0.1s\n",
      "[CV 2/3] END bootstrap=True, max_depth=None, max_features=sqrt, min_samples_leaf=2, min_samples_split=5, n_estimators=50;, score=(train=-0.082, test=-0.207) total time=   0.2s\n",
      "[CV 3/3] END bootstrap=False, max_depth=90, max_features=sqrt, min_samples_leaf=5, min_samples_split=8, n_estimators=100;, score=(train=-0.111, test=-0.195) total time=   0.6s\n",
      "[CV 2/3] END bootstrap=True, max_depth=7, max_features=auto, min_samples_leaf=1, min_samples_split=2, n_estimators=200;, score=(train=-0.162, test=-0.206) total time=   0.6s\n"
     ]
    },
    {
     "name": "stdout",
     "output_type": "stream",
     "text": [
      "[CV 1/3] END bootstrap=True, max_depth=80, max_features=auto, min_samples_leaf=5, min_samples_split=5, n_estimators=70;, score=(train=-0.146, test=-0.196) total time=   0.3s\n",
      "[CV 2/3] END bootstrap=False, max_depth=5, max_features=sqrt, min_samples_leaf=2, min_samples_split=12, n_estimators=50;, score=(train=-0.182, test=-0.208) total time=   0.1s\n",
      "[CV 3/3] END bootstrap=True, max_depth=8, max_features=sqrt, min_samples_leaf=1, min_samples_split=5, n_estimators=70;, score=(train=-0.164, test=-0.192) total time=   0.3s\n",
      "[CV 1/3] END bootstrap=True, max_depth=8, max_features=auto, min_samples_leaf=1, min_samples_split=8, n_estimators=70;, score=(train=-0.159, test=-0.196) total time=   0.3s\n",
      "[CV 1/3] END bootstrap=False, max_depth=5, max_features=sqrt, min_samples_leaf=1, min_samples_split=12, n_estimators=30;, score=(train=-0.190, test=-0.200) total time=   0.1s\n",
      "[CV 3/3] END bootstrap=False, max_depth=5, max_features=sqrt, min_samples_leaf=2, min_samples_split=12, n_estimators=40;, score=(train=-0.190, test=-0.187) total time=   0.2s\n",
      "[CV 1/3] END bootstrap=False, max_depth=6, max_features=sqrt, min_samples_leaf=5, min_samples_split=12, n_estimators=90;, score=(train=-0.178, test=-0.198) total time=   0.3s\n",
      "[CV 1/3] END bootstrap=True, max_depth=None, max_features=sqrt, min_samples_leaf=4, min_samples_split=8, n_estimators=40;, score=(train=-0.133, test=-0.195) total time=   0.2s\n",
      "[CV 1/3] END bootstrap=False, max_depth=80, max_features=auto, min_samples_leaf=3, min_samples_split=8, n_estimators=30;, score=(train=-0.075, test=-0.195) total time=   0.2s\n",
      "[CV 3/3] END bootstrap=False, max_depth=None, max_features=auto, min_samples_leaf=2, min_samples_split=12, n_estimators=80;, score=(train=-0.086, test=-0.198) total time=   0.4s\n",
      "[CV 2/3] END bootstrap=True, max_depth=100, max_features=auto, min_samples_leaf=2, min_samples_split=10, n_estimators=100;, score=(train=-0.108, test=-0.213) total time=   0.4s\n",
      "[CV 2/3] END bootstrap=True, max_depth=8, max_features=auto, min_samples_leaf=3, min_samples_split=5, n_estimators=100;, score=(train=-0.158, test=-0.208) total time=   0.7s\n",
      "[CV 1/3] END bootstrap=True, max_depth=7, max_features=auto, min_samples_leaf=1, min_samples_split=12, n_estimators=40;, score=(train=-0.170, test=-0.191) total time=   0.1s\n",
      "[CV 1/3] END bootstrap=False, max_depth=7, max_features=sqrt, min_samples_leaf=2, min_samples_split=5, n_estimators=100;, score=(train=-0.167, test=-0.197) total time=   0.4s\n",
      "[CV 1/3] END bootstrap=True, max_depth=5, max_features=sqrt, min_samples_leaf=5, min_samples_split=8, n_estimators=90;, score=(train=-0.192, test=-0.208) total time=   0.3s\n",
      "[CV 3/3] END bootstrap=True, max_depth=90, max_features=sqrt, min_samples_leaf=2, min_samples_split=5, n_estimators=70;, score=(train=-0.086, test=-0.198) total time=   0.3s\n",
      "[CV 2/3] END bootstrap=True, max_depth=90, max_features=sqrt, min_samples_leaf=4, min_samples_split=10, n_estimators=200;, score=(train=-0.129, test=-0.203) total time=   0.8s\n",
      "[CV 2/3] END bootstrap=True, max_depth=90, max_features=sqrt, min_samples_leaf=4, min_samples_split=10, n_estimators=30;, score=(train=-0.127, test=-0.206) total time=   0.1s\n",
      "[CV 1/3] END bootstrap=False, max_depth=5, max_features=sqrt, min_samples_leaf=2, min_samples_split=8, n_estimators=30;, score=(train=-0.194, test=-0.203) total time=   0.1s\n",
      "[CV 1/3] END bootstrap=False, max_depth=90, max_features=sqrt, min_samples_leaf=5, min_samples_split=12, n_estimators=200;, score=(train=-0.113, test=-0.198) total time=   1.1s\n",
      "[CV 2/3] END bootstrap=True, max_depth=6, max_features=sqrt, min_samples_leaf=3, min_samples_split=5, n_estimators=80;, score=(train=-0.178, test=-0.210) total time=   0.4s\n",
      "[CV 2/3] END bootstrap=True, max_depth=90, max_features=sqrt, min_samples_leaf=3, min_samples_split=8, n_estimators=40;, score=(train=-0.116, test=-0.197) total time=   0.2s\n",
      "[CV 3/3] END bootstrap=False, max_depth=100, max_features=auto, min_samples_leaf=1, min_samples_split=12, n_estimators=40;, score=(train=-0.072, test=-0.201) total time=   0.3s\n",
      "[CV 2/3] END bootstrap=True, max_depth=None, max_features=sqrt, min_samples_leaf=4, min_samples_split=5, n_estimators=70;, score=(train=-0.128, test=-0.210) total time=   0.4s\n",
      "[CV 3/3] END bootstrap=True, max_depth=None, max_features=sqrt, min_samples_leaf=2, min_samples_split=2, n_estimators=80;, score=(train=-0.078, test=-0.203) total time=   0.5s\n",
      "[CV 3/3] END bootstrap=True, max_depth=7, max_features=auto, min_samples_leaf=3, min_samples_split=12, n_estimators=60;, score=(train=-0.173, test=-0.188) total time=   0.2s\n",
      "[CV 2/3] END bootstrap=True, max_depth=80, max_features=auto, min_samples_leaf=3, min_samples_split=12, n_estimators=200;, score=(train=-0.124, test=-0.205) total time=   1.1s\n",
      "[CV 1/3] END bootstrap=True, max_depth=100, max_features=sqrt, min_samples_leaf=1, min_samples_split=12, n_estimators=20;, score=(train=-0.124, test=-0.195) total time=   0.2s\n",
      "[CV 2/3] END bootstrap=True, max_depth=100, max_features=sqrt, min_samples_leaf=1, min_samples_split=12, n_estimators=20;, score=(train=-0.116, test=-0.208) total time=   0.1s\n",
      "[CV 1/3] END bootstrap=True, max_depth=6, max_features=auto, min_samples_leaf=4, min_samples_split=8, n_estimators=40;, score=(train=-0.180, test=-0.200) total time=   0.1s\n",
      "[CV 2/3] END bootstrap=True, max_depth=90, max_features=sqrt, min_samples_leaf=2, min_samples_split=12, n_estimators=20;, score=(train=-0.129, test=-0.204) total time=   0.1s\n",
      "[CV 1/3] END bootstrap=False, max_depth=90, max_features=sqrt, min_samples_leaf=1, min_samples_split=2, n_estimators=70;, score=(train=-0.003, test=-0.215) total time=   0.5s\n",
      "[CV 1/3] END bootstrap=False, max_depth=5, max_features=sqrt, min_samples_leaf=1, min_samples_split=12, n_estimators=20;, score=(train=-0.193, test=-0.205) total time=   0.1s\n",
      "[CV 3/3] END bootstrap=False, max_depth=5, max_features=sqrt, min_samples_leaf=1, min_samples_split=12, n_estimators=20;, score=(train=-0.192, test=-0.186) total time=   0.1s\n",
      "[CV 1/3] END bootstrap=True, max_depth=5, max_features=sqrt, min_samples_leaf=5, min_samples_split=8, n_estimators=50;, score=(train=-0.193, test=-0.205) total time=   0.2s\n",
      "[CV 3/3] END bootstrap=True, max_depth=None, max_features=sqrt, min_samples_leaf=2, min_samples_split=5, n_estimators=50;, score=(train=-0.086, test=-0.199) total time=   0.2s\n",
      "[CV 1/3] END bootstrap=False, max_depth=90, max_features=sqrt, min_samples_leaf=5, min_samples_split=8, n_estimators=100;, score=(train=-0.111, test=-0.204) total time=   0.6s\n",
      "[CV 3/3] END bootstrap=True, max_depth=7, max_features=auto, min_samples_leaf=1, min_samples_split=2, n_estimators=200;, score=(train=-0.169, test=-0.187) total time=   0.7s\n",
      "[CV 2/3] END bootstrap=True, max_depth=90, max_features=auto, min_samples_leaf=2, min_samples_split=8, n_estimators=40;, score=(train=-0.102, test=-0.209) total time=   0.2s\n",
      "[CV 3/3] END bootstrap=True, max_depth=8, max_features=auto, min_samples_leaf=4, min_samples_split=5, n_estimators=40;, score=(train=-0.165, test=-0.191) total time=   0.1s\n",
      "[CV 2/3] END bootstrap=True, max_depth=90, max_features=auto, min_samples_leaf=4, min_samples_split=8, n_estimators=20;, score=(train=-0.129, test=-0.213) total time=   0.1s\n",
      "[CV 2/3] END bootstrap=True, max_depth=8, max_features=sqrt, min_samples_leaf=1, min_samples_split=5, n_estimators=70;, score=(train=-0.151, test=-0.213) total time=   0.3s\n",
      "[CV 3/3] END bootstrap=True, max_depth=None, max_features=sqrt, min_samples_leaf=1, min_samples_split=5, n_estimators=30;, score=(train=-0.058, test=-0.207) total time=   0.2s\n",
      "[CV 2/3] END bootstrap=True, max_depth=90, max_features=sqrt, min_samples_leaf=5, min_samples_split=8, n_estimators=90;, score=(train=-0.136, test=-0.201) total time=   0.4s\n",
      "[CV 2/3] END bootstrap=False, max_depth=None, max_features=sqrt, min_samples_leaf=4, min_samples_split=12, n_estimators=30;, score=(train=-0.104, test=-0.206) total time=   0.1s\n",
      "[CV 3/3] END bootstrap=True, max_depth=90, max_features=auto, min_samples_leaf=5, min_samples_split=12, n_estimators=100;, score=(train=-0.143, test=-0.194) total time=   0.4s\n",
      "[CV 2/3] END bootstrap=False, max_depth=80, max_features=auto, min_samples_leaf=3, min_samples_split=8, n_estimators=30;, score=(train=-0.074, test=-0.208) total time=   0.2s\n",
      "[CV 2/3] END bootstrap=True, max_depth=6, max_features=sqrt, min_samples_leaf=1, min_samples_split=12, n_estimators=60;, score=(train=-0.174, test=-0.205) total time=   0.2s\n",
      "[CV 2/3] END bootstrap=False, max_depth=None, max_features=sqrt, min_samples_leaf=4, min_samples_split=12, n_estimators=20;, score=(train=-0.105, test=-0.206) total time=   0.1s\n",
      "[CV 1/3] END bootstrap=True, max_depth=6, max_features=sqrt, min_samples_leaf=1, min_samples_split=5, n_estimators=50;, score=(train=-0.181, test=-0.202) total time=   0.2s\n",
      "[CV 2/3] END bootstrap=False, max_depth=100, max_features=sqrt, min_samples_leaf=1, min_samples_split=2, n_estimators=200;, score=(train=-0.002, test=-0.224) total time=   1.8s\n",
      "[CV 3/3] END bootstrap=True, max_depth=5, max_features=sqrt, min_samples_leaf=5, min_samples_split=8, n_estimators=90;, score=(train=-0.192, test=-0.191) total time=   0.3s\n",
      "[CV 2/3] END bootstrap=True, max_depth=90, max_features=auto, min_samples_leaf=5, min_samples_split=5, n_estimators=80;, score=(train=-0.137, test=-0.205) total time=   0.3s\n",
      "[CV 1/3] END bootstrap=False, max_depth=7, max_features=auto, min_samples_leaf=4, min_samples_split=5, n_estimators=70;, score=(train=-0.169, test=-0.196) total time=   0.3s\n",
      "[CV 3/3] END bootstrap=True, max_depth=7, max_features=auto, min_samples_leaf=2, min_samples_split=10, n_estimators=70;, score=(train=-0.172, test=-0.184) total time=   0.2s\n",
      "[CV 3/3] END bootstrap=False, max_depth=6, max_features=sqrt, min_samples_leaf=5, min_samples_split=8, n_estimators=30;, score=(train=-0.183, test=-0.186) total time=   0.1s\n",
      "[CV 2/3] END bootstrap=False, max_depth=80, max_features=auto, min_samples_leaf=5, min_samples_split=10, n_estimators=100;, score=(train=-0.107, test=-0.207) total time=   0.5s\n",
      "[CV 2/3] END bootstrap=False, max_depth=90, max_features=sqrt, min_samples_leaf=5, min_samples_split=12, n_estimators=200;, score=(train=-0.113, test=-0.206) total time=   1.0s\n",
      "[CV 3/3] END bootstrap=True, max_depth=6, max_features=sqrt, min_samples_leaf=3, min_samples_split=5, n_estimators=80;, score=(train=-0.179, test=-0.189) total time=   0.3s\n",
      "[CV 1/3] END bootstrap=True, max_depth=90, max_features=sqrt, min_samples_leaf=3, min_samples_split=8, n_estimators=40;, score=(train=-0.117, test=-0.195) total time=   0.2s\n",
      "[CV 2/3] END bootstrap=False, max_depth=6, max_features=sqrt, min_samples_leaf=5, min_samples_split=5, n_estimators=30;, score=(train=-0.176, test=-0.210) total time=   0.1s\n",
      "[CV 3/3] END bootstrap=False, max_depth=80, max_features=auto, min_samples_leaf=5, min_samples_split=12, n_estimators=20;, score=(train=-0.121, test=-0.200) total time=   0.1s\n",
      "[CV 1/3] END bootstrap=True, max_depth=8, max_features=auto, min_samples_leaf=1, min_samples_split=2, n_estimators=40;, score=(train=-0.152, test=-0.200) total time=   0.2s\n",
      "[CV 3/3] END bootstrap=True, max_depth=None, max_features=sqrt, min_samples_leaf=4, min_samples_split=5, n_estimators=70;, score=(train=-0.130, test=-0.196) total time=   0.3s\n",
      "[CV 1/3] END bootstrap=False, max_depth=5, max_features=auto, min_samples_leaf=2, min_samples_split=8, n_estimators=60;, score=(train=-0.192, test=-0.206) total time=   0.2s\n",
      "[CV 3/3] END bootstrap=False, max_depth=None, max_features=sqrt, min_samples_leaf=2, min_samples_split=8, n_estimators=200;, score=(train=-0.057, test=-0.200) total time=   1.4s\n",
      "[CV 2/3] END bootstrap=False, max_depth=80, max_features=sqrt, min_samples_leaf=2, min_samples_split=5, n_estimators=200;, score=(train=-0.029, test=-0.209) total time=   1.4s\n",
      "[CV 2/3] END bootstrap=False, max_depth=5, max_features=sqrt, min_samples_leaf=1, min_samples_split=12, n_estimators=20;, score=(train=-0.185, test=-0.211) total time=   0.1s\n",
      "[CV 1/3] END bootstrap=True, max_depth=80, max_features=auto, min_samples_leaf=4, min_samples_split=10, n_estimators=50;, score=(train=-0.132, test=-0.193) total time=   0.2s\n",
      "[CV 1/3] END bootstrap=True, max_depth=None, max_features=sqrt, min_samples_leaf=2, min_samples_split=5, n_estimators=50;, score=(train=-0.081, test=-0.201) total time=   0.2s\n",
      "[CV 3/3] END bootstrap=True, max_depth=6, max_features=auto, min_samples_leaf=1, min_samples_split=5, n_estimators=100;, score=(train=-0.181, test=-0.184) total time=   0.4s\n",
      "[CV 2/3] END bootstrap=True, max_depth=6, max_features=auto, min_samples_leaf=4, min_samples_split=12, n_estimators=80;, score=(train=-0.177, test=-0.205) total time=   0.3s\n",
      "[CV 1/3] END bootstrap=False, max_depth=90, max_features=auto, min_samples_leaf=2, min_samples_split=12, n_estimators=70;, score=(train=-0.080, test=-0.199) total time=   0.4s\n",
      "[CV 3/3] END bootstrap=False, max_depth=90, max_features=auto, min_samples_leaf=2, min_samples_split=12, n_estimators=70;, score=(train=-0.085, test=-0.195) total time=   0.3s\n"
     ]
    }
   ],
   "source": [
    "print(confusion_matrix(y_retest,y_repred1))"
   ]
  }
 ],
 "metadata": {
  "kernelspec": {
   "display_name": "Python 3 (ipykernel)",
   "language": "python",
   "name": "python3"
  },
  "language_info": {
   "codemirror_mode": {
    "name": "ipython",
    "version": 3
   },
   "file_extension": ".py",
   "mimetype": "text/x-python",
   "name": "python",
   "nbconvert_exporter": "python",
   "pygments_lexer": "ipython3",
   "version": "3.9.12"
  }
 },
 "nbformat": 4,
 "nbformat_minor": 5
}
